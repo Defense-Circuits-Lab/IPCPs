{
 "cells": [
  {
   "cell_type": "code",
   "execution_count": 34,
   "id": "20edabb6-5273-49aa-a9d5-4eaba676c761",
   "metadata": {},
   "outputs": [
    {
     "ename": "SyntaxError",
     "evalue": "invalid syntax (database.py, line 317)",
     "output_type": "error",
     "traceback": [
      "Traceback \u001b[0;36m(most recent call last)\u001b[0m:\n",
      "  File \u001b[1;32m\"/home/ds/anaconda3/envs/DCLwidgets_clone/lib/python3.7/site-packages/IPython/core/interactiveshell.py\"\u001b[0m, line \u001b[1;32m3457\u001b[0m, in \u001b[1;35mrun_code\u001b[0m\n    exec(code_obj, self.user_global_ns, self.user_ns)\n",
      "  File \u001b[1;32m\"/tmp/ipykernel_431/1433739084.py\"\u001b[0m, line \u001b[1;32m2\u001b[0m, in \u001b[1;35m<module>\u001b[0m\n    from dclpatch.main import PatchProject\n",
      "\u001b[0;36m  File \u001b[0;32m\"/home/ds/GitHub_repos/DCLmeetsRETUNE/patch_clamp_analysis/dclpatch/main.py\"\u001b[0;36m, line \u001b[0;32m4\u001b[0;36m, in \u001b[0;35m<module>\u001b[0;36m\u001b[0m\n\u001b[0;31m    from .database import Database, listdir_nohidden\u001b[0m\n",
      "\u001b[0;36m  File \u001b[0;32m\"/home/ds/GitHub_repos/DCLmeetsRETUNE/patch_clamp_analysis/dclpatch/database.py\"\u001b[0;36m, line \u001b[0;32m317\u001b[0m\n\u001b[0;31m    elif 'Bsl' in filename:\u001b[0m\n\u001b[0m       ^\u001b[0m\n\u001b[0;31mSyntaxError\u001b[0m\u001b[0;31m:\u001b[0m invalid syntax\n"
     ]
    }
   ],
   "source": [
    "from pathlib import Path\n",
    "from dclpatch.main import PatchProject\n"
   ]
  },
  {
   "cell_type": "code",
   "execution_count": null,
   "id": "81a4e996-283c-4b23-bef4-8c75001c7c5b",
   "metadata": {},
   "outputs": [],
   "source": [
    "root_dir_path = Path('/mnt/c/Users/dsege/TEMP/Alexia/analysis_with_dcl_patch/')"
   ]
  },
  {
   "cell_type": "code",
   "execution_count": null,
   "id": "345be5ea-9140-46c9-8e57-5d1417314aa2",
   "metadata": {},
   "outputs": [],
   "source": [
    "api = PatchProject(root_dir = root_dir_path)"
   ]
  },
  {
   "cell_type": "code",
   "execution_count": null,
   "id": "f5ea2154-89ab-403f-993e-368e56855972",
   "metadata": {},
   "outputs": [],
   "source": [
    "api.load_database()"
   ]
  },
  {
   "cell_type": "code",
   "execution_count": null,
   "id": "770c985d-0176-432d-83a4-84e9352ae2e5",
   "metadata": {},
   "outputs": [],
   "source": [
    "path_to_cell_recordings_dir = Path('/mnt/c/Users/dsege/TEMP/Alexia/NET-cre_vGat-flp/2021_12_09_C2/')"
   ]
  },
  {
   "cell_type": "code",
   "execution_count": null,
   "id": "bd82c084-dc29-421c-9541-e59b79e4cc69",
   "metadata": {},
   "outputs": [],
   "source": [
    "api.add_cell_to_database(path_to_cell_recordings_dir = path_to_cell_recordings_dir, overwrite=True)"
   ]
  },
  {
   "cell_type": "code",
   "execution_count": null,
   "id": "7621efd4-b0af-432d-9fe1-6a26f0dd4e37",
   "metadata": {},
   "outputs": [],
   "source": [
    "path_to_all_cell_recordings = Path('/mnt/c/Users/dsege/TEMP/Alexia/NET-cre_vGat-flp/')\n",
    "api.add_all_cells_to_database(path_with_cell_recordings_as_subdirs = path_to_all_cell_recordings, overwrite=True)"
   ]
  },
  {
   "cell_type": "code",
   "execution_count": null,
   "id": "cde392c1-24bd-4954-8930-5caa8336c1d6",
   "metadata": {},
   "outputs": [],
   "source": [
    "api.database.cell_recordings_metadata"
   ]
  },
  {
   "cell_type": "code",
   "execution_count": null,
   "id": "3399b404-292c-4a61-b62e-8546242cfbe8",
   "metadata": {},
   "outputs": [],
   "source": [
    "api.compare_on_single_cell_level(global_cell_id = '0000')"
   ]
  },
  {
   "cell_type": "code",
   "execution_count": null,
   "id": "d26905a6-516f-4515-8991-9d670edeaf9d",
   "metadata": {},
   "outputs": [],
   "source": [
    "api.compare_within_group(group_column = 'brain_region', group_id = 'vlPAG')"
   ]
  },
  {
   "cell_type": "code",
   "execution_count": null,
   "id": "fc3127ca-33f6-453c-b646-aa5e42cbd9cb",
   "metadata": {},
   "outputs": [],
   "source": [
    "api.save_database()"
   ]
  },
  {
   "cell_type": "markdown",
   "id": "baa89fcb-1398-42e1-b6c1-20dc44ed21e8",
   "metadata": {
    "tags": []
   },
   "source": [
    "# Code development"
   ]
  },
  {
   "cell_type": "code",
   "execution_count": 133,
   "id": "ccc6115e-77bc-4b2b-a116-dc5bf84919bf",
   "metadata": {},
   "outputs": [],
   "source": [
    "import pandas as pd\n",
    "import numpy as np\n",
    "from pathlib import Path"
   ]
  },
  {
   "cell_type": "code",
   "execution_count": 134,
   "id": "8eea31c7-95cc-4889-a55c-68fefc263454",
   "metadata": {},
   "outputs": [],
   "source": [
    "path = Path('/mnt/c/Users/dsege/TEMP/Alexia/NET-cre_vGat-flp/2021_12_09_C2/')"
   ]
  },
  {
   "cell_type": "code",
   "execution_count": 125,
   "id": "7c71f5c3-61aa-49bc-bef9-9ade4f8c5b44",
   "metadata": {},
   "outputs": [],
   "source": [
    "test = pd.read_excel('/mnt/c/Users/dsege/TEMP/Alexia/NET-cre_vGat-flp/2021_12_09_C2/2021_12_09_C2.xlsx', sheet_name = None)"
   ]
  },
  {
   "cell_type": "code",
   "execution_count": 130,
   "id": "79767687-0191-434d-a32f-f0674acdef4d",
   "metadata": {},
   "outputs": [],
   "source": [
    "input_df = test['Recordings and cell properties']"
   ]
  },
  {
   "cell_type": "code",
   "execution_count": null,
   "id": "9c97a2ee-1d3a-45a2-bd9c-6598e76b8008",
   "metadata": {},
   "outputs": [],
   "source": [
    "'stimulation_string', 'stimulation_frequency-Hz', 'stimulation_duration-ms', 'filepath_detected_events'"
   ]
  },
  {
   "cell_type": "code",
   "execution_count": 131,
   "id": "76462201-358f-4023-8047-4b44c482539a",
   "metadata": {},
   "outputs": [],
   "source": [
    "input_df.columns = input_df.iloc[1]\n",
    "input_df = input_df.iloc[2:, 1:]\n",
    "input_df = input_df.loc[input_df['Type of protocol'].notnull()]\n",
    "\n",
    "columns = list(input_df.columns)\n",
    "relevant_data_columns = columns[columns.index('Pharmacology') +1 :]\n",
    "\n",
    "all_final_single_stimulation_dfs = []\n",
    "for row_index in range(input_df.shape[0]):\n",
    "    single_stimulation_df = input_df.iloc[[row_index]].copy()\n",
    "    if type(single_stimulation_df['Time since cutting'].iloc[0]) == datetime.time:\n",
    "        time_since_cutting = single_stimulation_df['Time since cutting'].iloc[0].hour * 60 + single_stimulation_df['Time since cutting'].iloc[0].minute\n",
    "    else:\n",
    "        time_since_cutting = 'not_available'\n",
    "\n",
    "    if single_stimulation_df['Vh (mV)'].iloc[0] == -70:\n",
    "        postsynaptic_current_type = 'excitatory'\n",
    "    elif single_stimulation_df['Vh (mV)'].iloc[0] == 0:\n",
    "        postsynaptic_current_type = 'inhibitory'\n",
    "    else:\n",
    "        raise ValueError(f'{single_stimulation_df[\"Vh (mV)\"].iloc[0]} is not a valid entry for holding potential!')\n",
    "\n",
    "    if pd.isna(single_stimulation_df['Pharmacology'].iloc[0]):\n",
    "        pharmacology = 'none'\n",
    "    else:\n",
    "        pharmacology = single_stimulation_df['Pharmacology'].iloc[0]\n",
    "\n",
    "    if single_stimulation_df['Type of protocol'].iloc[0] == 'Bsl':\n",
    "        stimulation_frequency = np.NaN\n",
    "        stimulation_duration = np.NaN\n",
    "        stimulation_string = 'baseline'\n",
    "        # filepath?\n",
    "    elif single_stimulation_df['Type of protocol'].iloc[0] == 'Bsl2':\n",
    "        stimulation_frequency = np.NaN\n",
    "        stimulation_duration = np.NaN\n",
    "        stimulation_string = 'control_baseline'\n",
    "        # filepath?\n",
    "    elif 'Hz' in single_stimulation_df['Type of protocol'].iloc[0]:\n",
    "        stimulation_frequency = single_stimulation_df['Type of protocol'].iloc[0].replace(' Hz', '')\n",
    "        stimulation_duration = int(single_stimulation_df['Timing of stim (s)'].iloc[0] * 1000)\n",
    "        stimulation_string = f'{stimulation_frequency}-Hz_for_{stimulation_duration}-ms'\n",
    "        # filepath\n",
    "\n",
    "\n",
    "    sorted_data = {'postsynaptic_current_type': [postsynaptic_current_type],\n",
    "                   'stimulation_string': [stimulation_string],\n",
    "                   'stimulation_frequency-Hz': [stimulation_frequency],\n",
    "                   'stimulation_duration-ms': [stimulation_duration],\n",
    "                   'pharmacology': [pharmacology],\n",
    "                   'time_since_cutting-M': [time_since_cutting]}\n",
    "\n",
    "    sorted_single_stimulation_df = pd.DataFrame(data = sorted_data)\n",
    "    remaining_data_df = single_stimulation_df[relevant_data_columns].copy()\n",
    "    remaining_data_df = remaining_data_df.reset_index(drop=True)\n",
    "    all_final_single_stimulation_dfs.append(pd.concat([sorted_single_stimulation_df, remaining_data_df], axis=1))\n",
    "recording_specific_dataframe = pd.concat(all_final_single_stimulation_dfs)\n",
    "final_df = pd.concat([general_metadata_df, recording_specific_dataframe], axis=1)\n",
    "final_df.insert(0, 'global_cell_id', [global_cell_id]*final_df.shape[0])"
   ]
  },
  {
   "cell_type": "code",
   "execution_count": 136,
   "id": "a7823a81-c8e6-4606-afa5-bff3167a200e",
   "metadata": {},
   "outputs": [],
   "source": [
    "metadata_df = test['General information']\n",
    "general_metadata = {'date': path.name[:10],\n",
    "                    'session_cell_id': path.name[path.name.rfind('_') + 1:],\n",
    "                    'mouse_line': metadata_df['Animal line'][0],\n",
    "                    'brain_region': metadata_df['Region'][0],\n",
    "                    'cell_type': metadata_df['Type'][0],\n",
    "                    'sex': metadata_df['Sex'][0],\n",
    "                    'age': metadata_df['Age (days)'][0],\n",
    "                    'stimulation_in_percent': metadata_df['Stimulation (%)'][0],\n",
    "                    'internal_patch_solution': metadata_df['Internal used'][0]}\n",
    "general_metadata_df = pd.DataFrame(general_metadata, index=[0])"
   ]
  },
  {
   "cell_type": "code",
   "execution_count": 139,
   "id": "5ff6dda7-56bf-44af-a492-3f3e8c6db0ea",
   "metadata": {},
   "outputs": [],
   "source": [
    "global_cell_id = '0000'"
   ]
  },
  {
   "cell_type": "code",
   "execution_count": 140,
   "id": "babe90b9-8ee0-4365-9f17-0a79d4070867",
   "metadata": {},
   "outputs": [],
   "source": [
    "final_df = pd.concat([general_metadata_df, recording_specific_dataframe], axis=1)\n",
    "final_df.insert(0, 'global_cell_id', [global_cell_id]*final_df.shape[0])"
   ]
  },
  {
   "cell_type": "code",
   "execution_count": 145,
   "id": "2db9fd66-aea3-4174-af6f-d56b010d2e41",
   "metadata": {},
   "outputs": [
    {
     "name": "stdout",
     "output_type": "stream",
     "text": [
      "hund dog\n",
      "katze cat\n"
     ]
    }
   ],
   "source": [
    "a = {'hund': 'dog', \n",
    "     'katze': 'cat'}\n",
    "\n",
    "for key, value in a.items():\n",
    "    print(key, value)"
   ]
  },
  {
   "cell_type": "code",
   "execution_count": 144,
   "id": "07d8809a-0bc9-4f13-b588-42ae2e9653b2",
   "metadata": {},
   "outputs": [
    {
     "data": {
      "text/html": [
       "<div>\n",
       "<style scoped>\n",
       "    .dataframe tbody tr th:only-of-type {\n",
       "        vertical-align: middle;\n",
       "    }\n",
       "\n",
       "    .dataframe tbody tr th {\n",
       "        vertical-align: top;\n",
       "    }\n",
       "\n",
       "    .dataframe thead th {\n",
       "        text-align: right;\n",
       "    }\n",
       "</style>\n",
       "<table border=\"1\" class=\"dataframe\">\n",
       "  <thead>\n",
       "    <tr style=\"text-align: right;\">\n",
       "      <th></th>\n",
       "      <th>global_cell_id</th>\n",
       "      <th>date</th>\n",
       "      <th>session_cell_id</th>\n",
       "      <th>mouse_line</th>\n",
       "      <th>brain_region</th>\n",
       "      <th>cell_type</th>\n",
       "      <th>sex</th>\n",
       "      <th>age</th>\n",
       "      <th>stimulation_in_percent</th>\n",
       "      <th>internal_patch_solution</th>\n",
       "      <th>...</th>\n",
       "      <th>Iinf(nA)</th>\n",
       "      <th>Rm (MΩ)</th>\n",
       "      <th>Access change (%)</th>\n",
       "      <th>Total time (s)</th>\n",
       "      <th>Time of counting (s)</th>\n",
       "      <th>Nb of  sweeps</th>\n",
       "      <th>Mean amp (pA)</th>\n",
       "      <th>Rise time 10-90 (ms)</th>\n",
       "      <th>Decay time 63% (ms)</th>\n",
       "      <th>Half width (ms)</th>\n",
       "    </tr>\n",
       "  </thead>\n",
       "  <tbody>\n",
       "    <tr>\n",
       "      <th>0</th>\n",
       "      <td>0000</td>\n",
       "      <td>2021_12_09</td>\n",
       "      <td>C2</td>\n",
       "      <td>NET-cre:vGat-flp</td>\n",
       "      <td>vlPAG</td>\n",
       "      <td>Unknown</td>\n",
       "      <td>Female</td>\n",
       "      <td>147</td>\n",
       "      <td>15</td>\n",
       "      <td>Kglu + 1.73ug bio</td>\n",
       "      <td>...</td>\n",
       "      <td>5.93</td>\n",
       "      <td>4.467127</td>\n",
       "      <td>NaN</td>\n",
       "      <td>272</td>\n",
       "      <td>34</td>\n",
       "      <td>8</td>\n",
       "      <td>8.59</td>\n",
       "      <td>0.82</td>\n",
       "      <td>1.85</td>\n",
       "      <td>3.66</td>\n",
       "    </tr>\n",
       "    <tr>\n",
       "      <th>0</th>\n",
       "      <td>0000</td>\n",
       "      <td>2021_12_09</td>\n",
       "      <td>C2</td>\n",
       "      <td>NET-cre:vGat-flp</td>\n",
       "      <td>vlPAG</td>\n",
       "      <td>Unknown</td>\n",
       "      <td>Female</td>\n",
       "      <td>147</td>\n",
       "      <td>15</td>\n",
       "      <td>Kglu + 1.73ug bio</td>\n",
       "      <td>...</td>\n",
       "      <td>6.58</td>\n",
       "      <td>7.206247</td>\n",
       "      <td>-29.481263</td>\n",
       "      <td>313</td>\n",
       "      <td>31.3</td>\n",
       "      <td>10</td>\n",
       "      <td>8.71</td>\n",
       "      <td>1.21</td>\n",
       "      <td>1.71</td>\n",
       "      <td>3.56</td>\n",
       "    </tr>\n",
       "    <tr>\n",
       "      <th>0</th>\n",
       "      <td>0000</td>\n",
       "      <td>2021_12_09</td>\n",
       "      <td>C2</td>\n",
       "      <td>NET-cre:vGat-flp</td>\n",
       "      <td>vlPAG</td>\n",
       "      <td>Unknown</td>\n",
       "      <td>Female</td>\n",
       "      <td>147</td>\n",
       "      <td>15</td>\n",
       "      <td>Kglu + 1.73ug bio</td>\n",
       "      <td>...</td>\n",
       "      <td>6.71</td>\n",
       "      <td>7.273929</td>\n",
       "      <td>-29.788936</td>\n",
       "      <td>270</td>\n",
       "      <td>27</td>\n",
       "      <td>10</td>\n",
       "      <td>8.38</td>\n",
       "      <td>1.25</td>\n",
       "      <td>1.98</td>\n",
       "      <td>3.93</td>\n",
       "    </tr>\n",
       "    <tr>\n",
       "      <th>0</th>\n",
       "      <td>0000</td>\n",
       "      <td>2021_12_09</td>\n",
       "      <td>C2</td>\n",
       "      <td>NET-cre:vGat-flp</td>\n",
       "      <td>vlPAG</td>\n",
       "      <td>Unknown</td>\n",
       "      <td>Female</td>\n",
       "      <td>147</td>\n",
       "      <td>15</td>\n",
       "      <td>Kglu + 1.73ug bio</td>\n",
       "      <td>...</td>\n",
       "      <td>7.6</td>\n",
       "      <td>7.370798</td>\n",
       "      <td>-29.161282</td>\n",
       "      <td>321</td>\n",
       "      <td>32.1</td>\n",
       "      <td>10</td>\n",
       "      <td>8</td>\n",
       "      <td>1.3</td>\n",
       "      <td>2.17</td>\n",
       "      <td>4.12</td>\n",
       "    </tr>\n",
       "    <tr>\n",
       "      <th>0</th>\n",
       "      <td>0000</td>\n",
       "      <td>2021_12_09</td>\n",
       "      <td>C2</td>\n",
       "      <td>NET-cre:vGat-flp</td>\n",
       "      <td>vlPAG</td>\n",
       "      <td>Unknown</td>\n",
       "      <td>Female</td>\n",
       "      <td>147</td>\n",
       "      <td>15</td>\n",
       "      <td>Kglu + 1.73ug bio</td>\n",
       "      <td>...</td>\n",
       "      <td>11.79</td>\n",
       "      <td>7.590642</td>\n",
       "      <td>-27.08141</td>\n",
       "      <td>222.6</td>\n",
       "      <td>31.8</td>\n",
       "      <td>7</td>\n",
       "      <td>7.75</td>\n",
       "      <td>1.36</td>\n",
       "      <td>2.22</td>\n",
       "      <td>4.32</td>\n",
       "    </tr>\n",
       "    <tr>\n",
       "      <th>0</th>\n",
       "      <td>0000</td>\n",
       "      <td>2021_12_09</td>\n",
       "      <td>C2</td>\n",
       "      <td>NET-cre:vGat-flp</td>\n",
       "      <td>vlPAG</td>\n",
       "      <td>Unknown</td>\n",
       "      <td>Female</td>\n",
       "      <td>147</td>\n",
       "      <td>15</td>\n",
       "      <td>Kglu + 1.73ug bio</td>\n",
       "      <td>...</td>\n",
       "      <td>5.93</td>\n",
       "      <td>4.467127</td>\n",
       "      <td>NaN</td>\n",
       "      <td>272</td>\n",
       "      <td>34</td>\n",
       "      <td>8</td>\n",
       "      <td>8.59</td>\n",
       "      <td>0.82</td>\n",
       "      <td>1.85</td>\n",
       "      <td>3.66</td>\n",
       "    </tr>\n",
       "    <tr>\n",
       "      <th>0</th>\n",
       "      <td>0000</td>\n",
       "      <td>2021_12_09</td>\n",
       "      <td>C2</td>\n",
       "      <td>NET-cre:vGat-flp</td>\n",
       "      <td>vlPAG</td>\n",
       "      <td>Unknown</td>\n",
       "      <td>Female</td>\n",
       "      <td>147</td>\n",
       "      <td>15</td>\n",
       "      <td>Kglu + 1.73ug bio</td>\n",
       "      <td>...</td>\n",
       "      <td>6.58</td>\n",
       "      <td>7.206247</td>\n",
       "      <td>-29.481263</td>\n",
       "      <td>313</td>\n",
       "      <td>31.3</td>\n",
       "      <td>10</td>\n",
       "      <td>8.71</td>\n",
       "      <td>1.21</td>\n",
       "      <td>1.71</td>\n",
       "      <td>3.56</td>\n",
       "    </tr>\n",
       "    <tr>\n",
       "      <th>0</th>\n",
       "      <td>0000</td>\n",
       "      <td>2021_12_09</td>\n",
       "      <td>C2</td>\n",
       "      <td>NET-cre:vGat-flp</td>\n",
       "      <td>vlPAG</td>\n",
       "      <td>Unknown</td>\n",
       "      <td>Female</td>\n",
       "      <td>147</td>\n",
       "      <td>15</td>\n",
       "      <td>Kglu + 1.73ug bio</td>\n",
       "      <td>...</td>\n",
       "      <td>6.71</td>\n",
       "      <td>7.273929</td>\n",
       "      <td>-29.788936</td>\n",
       "      <td>270</td>\n",
       "      <td>27</td>\n",
       "      <td>10</td>\n",
       "      <td>8.38</td>\n",
       "      <td>1.25</td>\n",
       "      <td>1.98</td>\n",
       "      <td>3.93</td>\n",
       "    </tr>\n",
       "    <tr>\n",
       "      <th>0</th>\n",
       "      <td>0000</td>\n",
       "      <td>2021_12_09</td>\n",
       "      <td>C2</td>\n",
       "      <td>NET-cre:vGat-flp</td>\n",
       "      <td>vlPAG</td>\n",
       "      <td>Unknown</td>\n",
       "      <td>Female</td>\n",
       "      <td>147</td>\n",
       "      <td>15</td>\n",
       "      <td>Kglu + 1.73ug bio</td>\n",
       "      <td>...</td>\n",
       "      <td>7.6</td>\n",
       "      <td>7.370798</td>\n",
       "      <td>-29.161282</td>\n",
       "      <td>321</td>\n",
       "      <td>32.1</td>\n",
       "      <td>10</td>\n",
       "      <td>8</td>\n",
       "      <td>1.3</td>\n",
       "      <td>2.17</td>\n",
       "      <td>4.12</td>\n",
       "    </tr>\n",
       "    <tr>\n",
       "      <th>0</th>\n",
       "      <td>0000</td>\n",
       "      <td>2021_12_09</td>\n",
       "      <td>C2</td>\n",
       "      <td>NET-cre:vGat-flp</td>\n",
       "      <td>vlPAG</td>\n",
       "      <td>Unknown</td>\n",
       "      <td>Female</td>\n",
       "      <td>147</td>\n",
       "      <td>15</td>\n",
       "      <td>Kglu + 1.73ug bio</td>\n",
       "      <td>...</td>\n",
       "      <td>11.79</td>\n",
       "      <td>7.590642</td>\n",
       "      <td>-27.08141</td>\n",
       "      <td>222.6</td>\n",
       "      <td>31.8</td>\n",
       "      <td>7</td>\n",
       "      <td>7.75</td>\n",
       "      <td>1.36</td>\n",
       "      <td>2.22</td>\n",
       "      <td>4.32</td>\n",
       "    </tr>\n",
       "  </tbody>\n",
       "</table>\n",
       "<p>10 rows × 30 columns</p>\n",
       "</div>"
      ],
      "text/plain": [
       "  global_cell_id        date session_cell_id        mouse_line brain_region  \\\n",
       "0           0000  2021_12_09              C2  NET-cre:vGat-flp        vlPAG   \n",
       "0           0000  2021_12_09              C2  NET-cre:vGat-flp        vlPAG   \n",
       "0           0000  2021_12_09              C2  NET-cre:vGat-flp        vlPAG   \n",
       "0           0000  2021_12_09              C2  NET-cre:vGat-flp        vlPAG   \n",
       "0           0000  2021_12_09              C2  NET-cre:vGat-flp        vlPAG   \n",
       "0           0000  2021_12_09              C2  NET-cre:vGat-flp        vlPAG   \n",
       "0           0000  2021_12_09              C2  NET-cre:vGat-flp        vlPAG   \n",
       "0           0000  2021_12_09              C2  NET-cre:vGat-flp        vlPAG   \n",
       "0           0000  2021_12_09              C2  NET-cre:vGat-flp        vlPAG   \n",
       "0           0000  2021_12_09              C2  NET-cre:vGat-flp        vlPAG   \n",
       "\n",
       "  cell_type     sex  age  stimulation_in_percent internal_patch_solution  ...  \\\n",
       "0   Unknown  Female  147                      15       Kglu + 1.73ug bio  ...   \n",
       "0   Unknown  Female  147                      15       Kglu + 1.73ug bio  ...   \n",
       "0   Unknown  Female  147                      15       Kglu + 1.73ug bio  ...   \n",
       "0   Unknown  Female  147                      15       Kglu + 1.73ug bio  ...   \n",
       "0   Unknown  Female  147                      15       Kglu + 1.73ug bio  ...   \n",
       "0   Unknown  Female  147                      15       Kglu + 1.73ug bio  ...   \n",
       "0   Unknown  Female  147                      15       Kglu + 1.73ug bio  ...   \n",
       "0   Unknown  Female  147                      15       Kglu + 1.73ug bio  ...   \n",
       "0   Unknown  Female  147                      15       Kglu + 1.73ug bio  ...   \n",
       "0   Unknown  Female  147                      15       Kglu + 1.73ug bio  ...   \n",
       "\n",
       "  Iinf(nA)   Rm (MΩ) Access change (%)  Total time (s) Time of counting (s)   \\\n",
       "0     5.93  4.467127               NaN             272                    34   \n",
       "0     6.58  7.206247        -29.481263             313                  31.3   \n",
       "0     6.71  7.273929        -29.788936             270                    27   \n",
       "0      7.6  7.370798        -29.161282             321                  32.1   \n",
       "0    11.79  7.590642         -27.08141           222.6                  31.8   \n",
       "0     5.93  4.467127               NaN             272                    34   \n",
       "0     6.58  7.206247        -29.481263             313                  31.3   \n",
       "0     6.71  7.273929        -29.788936             270                    27   \n",
       "0      7.6  7.370798        -29.161282             321                  32.1   \n",
       "0    11.79  7.590642         -27.08141           222.6                  31.8   \n",
       "\n",
       "   Nb of  sweeps Mean amp (pA) Rise time 10-90 (ms) Decay time 63% (ms)  \\\n",
       "0              8          8.59                 0.82                1.85   \n",
       "0             10          8.71                 1.21                1.71   \n",
       "0             10          8.38                 1.25                1.98   \n",
       "0             10             8                  1.3                2.17   \n",
       "0              7          7.75                 1.36                2.22   \n",
       "0              8          8.59                 0.82                1.85   \n",
       "0             10          8.71                 1.21                1.71   \n",
       "0             10          8.38                 1.25                1.98   \n",
       "0             10             8                  1.3                2.17   \n",
       "0              7          7.75                 1.36                2.22   \n",
       "\n",
       "  Half width (ms)  \n",
       "0            3.66  \n",
       "0            3.56  \n",
       "0            3.93  \n",
       "0            4.12  \n",
       "0            4.32  \n",
       "0            3.66  \n",
       "0            3.56  \n",
       "0            3.93  \n",
       "0            4.12  \n",
       "0            4.32  \n",
       "\n",
       "[10 rows x 30 columns]"
      ]
     },
     "execution_count": 144,
     "metadata": {},
     "output_type": "execute_result"
    }
   ],
   "source": [
    "pd.concat([final_df, final_df])"
   ]
  },
  {
   "cell_type": "code",
   "execution_count": 108,
   "id": "08756a59-99bc-40c0-8c18-5ffafd71a1e3",
   "metadata": {},
   "outputs": [
    {
     "data": {
      "text/html": [
       "<div>\n",
       "<style scoped>\n",
       "    .dataframe tbody tr th:only-of-type {\n",
       "        vertical-align: middle;\n",
       "    }\n",
       "\n",
       "    .dataframe tbody tr th {\n",
       "        vertical-align: top;\n",
       "    }\n",
       "\n",
       "    .dataframe thead th {\n",
       "        text-align: right;\n",
       "    }\n",
       "</style>\n",
       "<table border=\"1\" class=\"dataframe\">\n",
       "  <thead>\n",
       "    <tr style=\"text-align: right;\">\n",
       "      <th></th>\n",
       "      <th>postsynaptic_current_type</th>\n",
       "      <th>stimulation_string</th>\n",
       "      <th>stimulation_frequency-Hz</th>\n",
       "      <th>stimulation_duration-ms</th>\n",
       "      <th>pharmacology</th>\n",
       "      <th>time_since_cutting-M</th>\n",
       "    </tr>\n",
       "  </thead>\n",
       "  <tbody>\n",
       "    <tr>\n",
       "      <th>0</th>\n",
       "      <td>excitatory</td>\n",
       "      <td>4-Hz_for_1000-ms</td>\n",
       "      <td>4</td>\n",
       "      <td>1000</td>\n",
       "      <td>none</td>\n",
       "      <td>202</td>\n",
       "    </tr>\n",
       "  </tbody>\n",
       "</table>\n",
       "</div>"
      ],
      "text/plain": [
       "  postsynaptic_current_type stimulation_string stimulation_frequency-Hz  \\\n",
       "0                excitatory   4-Hz_for_1000-ms                        4   \n",
       "\n",
       "   stimulation_duration-ms pharmacology  time_since_cutting-M  \n",
       "0                     1000         none                   202  "
      ]
     },
     "execution_count": 108,
     "metadata": {},
     "output_type": "execute_result"
    }
   ],
   "source": []
  },
  {
   "cell_type": "code",
   "execution_count": 116,
   "id": "d9146d43-48f4-44de-9f06-9ae043204120",
   "metadata": {},
   "outputs": [
    {
     "data": {
      "text/html": [
       "<div>\n",
       "<style scoped>\n",
       "    .dataframe tbody tr th:only-of-type {\n",
       "        vertical-align: middle;\n",
       "    }\n",
       "\n",
       "    .dataframe tbody tr th {\n",
       "        vertical-align: top;\n",
       "    }\n",
       "\n",
       "    .dataframe thead th {\n",
       "        text-align: right;\n",
       "    }\n",
       "</style>\n",
       "<table border=\"1\" class=\"dataframe\">\n",
       "  <thead>\n",
       "    <tr style=\"text-align: right;\">\n",
       "      <th></th>\n",
       "      <th>postsynaptic_current_type</th>\n",
       "      <th>stimulation_string</th>\n",
       "      <th>stimulation_frequency-Hz</th>\n",
       "      <th>stimulation_duration-ms</th>\n",
       "      <th>pharmacology</th>\n",
       "      <th>time_since_cutting-M</th>\n",
       "      <th>Cap I (pA)</th>\n",
       "      <th>Tau (ms)</th>\n",
       "      <th>Rs (MΩ)</th>\n",
       "      <th>Cell Cap (pF)</th>\n",
       "      <th>Iinf(nA)</th>\n",
       "      <th>Rm (MΩ)</th>\n",
       "      <th>Access change (%)</th>\n",
       "      <th>Total time (s)</th>\n",
       "      <th>Time of counting (s)</th>\n",
       "      <th>Nb of  sweeps</th>\n",
       "      <th>Mean amp (pA)</th>\n",
       "      <th>Rise time 10-90 (ms)</th>\n",
       "      <th>Decay time 63% (ms)</th>\n",
       "      <th>Half width (ms)</th>\n",
       "    </tr>\n",
       "  </thead>\n",
       "  <tbody>\n",
       "    <tr>\n",
       "      <th>0</th>\n",
       "      <td>excitatory</td>\n",
       "      <td>4-Hz_for_1000-ms</td>\n",
       "      <td>4</td>\n",
       "      <td>1000</td>\n",
       "      <td>none</td>\n",
       "      <td>202</td>\n",
       "      <td>-114.6</td>\n",
       "      <td>1.74</td>\n",
       "      <td>8.726003</td>\n",
       "      <td>199.404</td>\n",
       "      <td>6.58</td>\n",
       "      <td>7.206247</td>\n",
       "      <td>-29.481263</td>\n",
       "      <td>313</td>\n",
       "      <td>31.3</td>\n",
       "      <td>10</td>\n",
       "      <td>8.71</td>\n",
       "      <td>1.21</td>\n",
       "      <td>1.71</td>\n",
       "      <td>3.56</td>\n",
       "    </tr>\n",
       "  </tbody>\n",
       "</table>\n",
       "</div>"
      ],
      "text/plain": [
       "  postsynaptic_current_type stimulation_string stimulation_frequency-Hz  \\\n",
       "0                excitatory   4-Hz_for_1000-ms                        4   \n",
       "\n",
       "   stimulation_duration-ms pharmacology  time_since_cutting-M Cap I (pA)  \\\n",
       "0                     1000         none                   202     -114.6   \n",
       "\n",
       "  Tau (ms)   Rs (MΩ) Cell Cap (pF) Iinf(nA)   Rm (MΩ) Access change (%)  \\\n",
       "0     1.74  8.726003       199.404     6.58  7.206247        -29.481263   \n",
       "\n",
       "  Total time (s) Time of counting (s)  Nb of  sweeps Mean amp (pA)  \\\n",
       "0            313                  31.3            10          8.71   \n",
       "\n",
       "  Rise time 10-90 (ms) Decay time 63% (ms) Half width (ms)  \n",
       "0                 1.21                1.71            3.56  "
      ]
     },
     "execution_count": 116,
     "metadata": {},
     "output_type": "execute_result"
    }
   ],
   "source": []
  },
  {
   "cell_type": "code",
   "execution_count": 71,
   "id": "4bb79c50-e888-42a0-9a40-ac530674f5ac",
   "metadata": {},
   "outputs": [],
   "source": [
    "time_since_cutting = single_stimulation_df['Time since cutting'].iloc[0].hour * 60 + single_stimulation_df['Time since cutting'].iloc[0].minute"
   ]
  },
  {
   "cell_type": "code",
   "execution_count": 114,
   "id": "77f58b21-216d-411a-9608-13c9fd396b7e",
   "metadata": {},
   "outputs": [
    {
     "data": {
      "text/html": [
       "<div>\n",
       "<style scoped>\n",
       "    .dataframe tbody tr th:only-of-type {\n",
       "        vertical-align: middle;\n",
       "    }\n",
       "\n",
       "    .dataframe tbody tr th {\n",
       "        vertical-align: top;\n",
       "    }\n",
       "\n",
       "    .dataframe thead th {\n",
       "        text-align: right;\n",
       "    }\n",
       "</style>\n",
       "<table border=\"1\" class=\"dataframe\">\n",
       "  <thead>\n",
       "    <tr style=\"text-align: right;\">\n",
       "      <th>1</th>\n",
       "      <th>Cap I (pA)</th>\n",
       "      <th>Tau (ms)</th>\n",
       "      <th>Rs (MΩ)</th>\n",
       "      <th>Cell Cap (pF)</th>\n",
       "      <th>Iinf(nA)</th>\n",
       "      <th>Rm (MΩ)</th>\n",
       "      <th>Access change (%)</th>\n",
       "      <th>Total time (s)</th>\n",
       "      <th>Time of counting (s)</th>\n",
       "      <th>Nb of  sweeps</th>\n",
       "      <th>Mean amp (pA)</th>\n",
       "      <th>Rise time 10-90 (ms)</th>\n",
       "      <th>Decay time 63% (ms)</th>\n",
       "      <th>Half width (ms)</th>\n",
       "    </tr>\n",
       "  </thead>\n",
       "  <tbody>\n",
       "    <tr>\n",
       "      <th>0</th>\n",
       "      <td>-114.6</td>\n",
       "      <td>1.74</td>\n",
       "      <td>8.726003</td>\n",
       "      <td>199.404</td>\n",
       "      <td>6.58</td>\n",
       "      <td>7.206247</td>\n",
       "      <td>-29.481263</td>\n",
       "      <td>313</td>\n",
       "      <td>31.3</td>\n",
       "      <td>10</td>\n",
       "      <td>8.71</td>\n",
       "      <td>1.21</td>\n",
       "      <td>1.71</td>\n",
       "      <td>3.56</td>\n",
       "    </tr>\n",
       "  </tbody>\n",
       "</table>\n",
       "</div>"
      ],
      "text/plain": [
       "1 Cap I (pA) Tau (ms)   Rs (MΩ) Cell Cap (pF) Iinf(nA)   Rm (MΩ)  \\\n",
       "0     -114.6     1.74  8.726003       199.404     6.58  7.206247   \n",
       "\n",
       "1 Access change (%) Total time (s) Time of counting (s)  Nb of  sweeps  \\\n",
       "0        -29.481263            313                  31.3            10   \n",
       "\n",
       "1 Mean amp (pA) Rise time 10-90 (ms) Decay time 63% (ms) Half width (ms)  \n",
       "0          8.71                 1.21                1.71            3.56  "
      ]
     },
     "execution_count": 114,
     "metadata": {},
     "output_type": "execute_result"
    }
   ],
   "source": [
    "\n",
    "remaining_data_df"
   ]
  },
  {
   "cell_type": "code",
   "execution_count": 112,
   "id": "1d8f8dc4-a7de-4dfb-8afd-7e958ee6656c",
   "metadata": {},
   "outputs": [
    {
     "data": {
      "text/html": [
       "<div>\n",
       "<style scoped>\n",
       "    .dataframe tbody tr th:only-of-type {\n",
       "        vertical-align: middle;\n",
       "    }\n",
       "\n",
       "    .dataframe tbody tr th {\n",
       "        vertical-align: top;\n",
       "    }\n",
       "\n",
       "    .dataframe thead th {\n",
       "        text-align: right;\n",
       "    }\n",
       "</style>\n",
       "<table border=\"1\" class=\"dataframe\">\n",
       "  <thead>\n",
       "    <tr style=\"text-align: right;\">\n",
       "      <th>1</th>\n",
       "      <th>Cap I (pA)</th>\n",
       "      <th>Tau (ms)</th>\n",
       "      <th>Rs (MΩ)</th>\n",
       "      <th>Cell Cap (pF)</th>\n",
       "      <th>Iinf(nA)</th>\n",
       "      <th>Rm (MΩ)</th>\n",
       "      <th>Access change (%)</th>\n",
       "      <th>Total time (s)</th>\n",
       "      <th>Time of counting (s)</th>\n",
       "      <th>Nb of  sweeps</th>\n",
       "      <th>Mean amp (pA)</th>\n",
       "      <th>Rise time 10-90 (ms)</th>\n",
       "      <th>Decay time 63% (ms)</th>\n",
       "      <th>Half width (ms)</th>\n",
       "    </tr>\n",
       "  </thead>\n",
       "  <tbody>\n",
       "    <tr>\n",
       "      <th>3</th>\n",
       "      <td>-114.6</td>\n",
       "      <td>1.74</td>\n",
       "      <td>8.726003</td>\n",
       "      <td>199.404</td>\n",
       "      <td>6.58</td>\n",
       "      <td>7.206247</td>\n",
       "      <td>-29.481263</td>\n",
       "      <td>313</td>\n",
       "      <td>31.3</td>\n",
       "      <td>10</td>\n",
       "      <td>8.71</td>\n",
       "      <td>1.21</td>\n",
       "      <td>1.71</td>\n",
       "      <td>3.56</td>\n",
       "    </tr>\n",
       "  </tbody>\n",
       "</table>\n",
       "</div>"
      ],
      "text/plain": [
       "1 Cap I (pA) Tau (ms)   Rs (MΩ) Cell Cap (pF) Iinf(nA)   Rm (MΩ)  \\\n",
       "3     -114.6     1.74  8.726003       199.404     6.58  7.206247   \n",
       "\n",
       "1 Access change (%) Total time (s) Time of counting (s)  Nb of  sweeps  \\\n",
       "3        -29.481263            313                  31.3            10   \n",
       "\n",
       "1 Mean amp (pA) Rise time 10-90 (ms) Decay time 63% (ms) Half width (ms)  \n",
       "3          8.71                 1.21                1.71            3.56  "
      ]
     },
     "execution_count": 112,
     "metadata": {},
     "output_type": "execute_result"
    }
   ],
   "source": [
    "single_stimulation_df[data_columns]"
   ]
  },
  {
   "cell_type": "code",
   "execution_count": 75,
   "id": "85cdd116-41f0-4ae4-b6ed-078d15cbcff7",
   "metadata": {},
   "outputs": [
    {
     "data": {
      "text/plain": [
       "False"
      ]
     },
     "execution_count": 75,
     "metadata": {},
     "output_type": "execute_result"
    }
   ],
   "source": [
    "import datetime\n",
    "isinstance(time_since_cutting, datetime.time)"
   ]
  },
  {
   "cell_type": "code",
   "execution_count": 47,
   "id": "daa3357b-5610-4d83-8421-9c4e202c01a0",
   "metadata": {},
   "outputs": [
    {
     "data": {
      "text/plain": [
       "'4'"
      ]
     },
     "execution_count": 47,
     "metadata": {},
     "output_type": "execute_result"
    }
   ],
   "source": [
    "tmp_str = tmp_str.replace(' Hz', '')\n",
    "tmp_str"
   ]
  },
  {
   "cell_type": "code",
   "execution_count": null,
   "id": "d77422e4-9068-4b11-afd9-593ec54b1658",
   "metadata": {},
   "outputs": [],
   "source": [
    "'stimulation_string', 'stimulation_frequency-Hz', 'stimulation_duration-ms', 'filepath_detected_events'"
   ]
  },
  {
   "cell_type": "code",
   "execution_count": null,
   "id": "11e0560c-d768-4505-81de-02686804b52d",
   "metadata": {},
   "outputs": [],
   "source": [
    "database = api.database"
   ]
  },
  {
   "cell_type": "code",
   "execution_count": null,
   "id": "3caea1f1-1c87-4c81-930f-0721b7fef8f0",
   "metadata": {},
   "outputs": [],
   "source": [
    "database.__dict__.keys()"
   ]
  },
  {
   "cell_type": "code",
   "execution_count": null,
   "id": "8878f9ab-1b74-4aaf-961d-3d0c41b8a23c",
   "metadata": {},
   "outputs": [],
   "source": [
    "database.subdirectories"
   ]
  },
  {
   "cell_type": "code",
   "execution_count": null,
   "id": "1ae57e3f-60ef-44bd-8719-aa2c6722ff40",
   "metadata": {},
   "outputs": [],
   "source": []
  },
  {
   "cell_type": "code",
   "execution_count": null,
   "id": "6c95a853-a0bc-4e50-b07f-972b214424af",
   "metadata": {},
   "outputs": [],
   "source": [
    "df = api.database.cell_recordings_metadata"
   ]
  },
  {
   "cell_type": "code",
   "execution_count": null,
   "id": "f4bad9a3-9fe9-42af-88a2-c864779e7cb6",
   "metadata": {},
   "outputs": [],
   "source": [
    "df['sex'].unique().shape[0]"
   ]
  },
  {
   "cell_type": "code",
   "execution_count": null,
   "id": "9addf6b7-9404-4084-9d6d-d17b9676d6ff",
   "metadata": {},
   "outputs": [],
   "source": [
    "list(df.loc[df['sex'] == 'Female', 'global_cell_id'].unique())"
   ]
  },
  {
   "cell_type": "code",
   "execution_count": null,
   "id": "d3e068b9-baf2-4eef-8595-3af864799ace",
   "metadata": {},
   "outputs": [],
   "source": [
    "import os"
   ]
  },
  {
   "cell_type": "code",
   "execution_count": null,
   "id": "10de3ee8-428e-4c26-9773-0d5cca179878",
   "metadata": {},
   "outputs": [],
   "source": [
    "os.path.isdir('/mnt/c/Users/dsege/TEMP/Alexia/analysis_with_dcl_patch/')"
   ]
  },
  {
   "cell_type": "code",
   "execution_count": null,
   "id": "d6114c07-9295-480d-ba93-46dda9bb8197",
   "metadata": {},
   "outputs": [],
   "source": [
    "p = Path('/mnt/c/Users/dsege/TEMP/Alexia/analysis_with_dcl_patch/')"
   ]
  },
  {
   "cell_type": "code",
   "execution_count": null,
   "id": "edf56483-5888-4a3c-bc49-584db86c2cca",
   "metadata": {},
   "outputs": [],
   "source": [
    "p.joinpath('results/')"
   ]
  },
  {
   "cell_type": "code",
   "execution_count": null,
   "id": "ce93fcde-492a-4805-8fd2-5b7638320fb6",
   "metadata": {},
   "outputs": [],
   "source": []
  },
  {
   "cell_type": "code",
   "execution_count": null,
   "id": "342e3bf4-9214-40d0-8912-2714c0cc3d08",
   "metadata": {},
   "outputs": [],
   "source": [
    "import os\n",
    "from pathlib import Path\n",
    "from typing import Dict\n",
    "\n",
    "import pandas as pd\n",
    "import numpy as np"
   ]
  },
  {
   "cell_type": "code",
   "execution_count": null,
   "id": "5b539ed0-3878-4b24-a750-c59c108252d6",
   "metadata": {},
   "outputs": [],
   "source": []
  },
  {
   "cell_type": "code",
   "execution_count": null,
   "id": "5b845d9a-0d5d-4099-90f9-8f8feedad87b",
   "metadata": {},
   "outputs": [],
   "source": []
  },
  {
   "cell_type": "code",
   "execution_count": null,
   "id": "3cee7600-f5c4-4528-9242-f64bb514b635",
   "metadata": {},
   "outputs": [],
   "source": [
    "def get_general_metadata_df(path_to_recordings_dir: Path) -> pd.DataFrame:\n",
    "    metadata_df = pd.read_excel(path_to_recordings_dir.joinpath(f'{path_to_recordings_dir.name}.xlsx'),\n",
    "                                sheet_name = 'General information')\n",
    "    general_metadata = {'date': path_to_recordings_dir.name[:10],\n",
    "                        'session_cell_id': path_to_recordings_dir.name[path_to_recordings_dir.name.rfind('_') + 1:],\n",
    "                        'mouse_line': metadata_df['Animal line'][0],\n",
    "                        'brain_region': metadata_df['Region'][0],\n",
    "                        'cell_type': metadata_df['Type'][0],\n",
    "                        'sex': metadata_df['Sex'][0]}\n",
    "    return pd.DataFrame(general_metadata, index=[0])"
   ]
  },
  {
   "cell_type": "code",
   "execution_count": null,
   "id": "42e5b914-2afe-4e19-836e-e1690a278279",
   "metadata": {},
   "outputs": [],
   "source": [
    "def get_stimulation_paradigms_df(path_to_recordings_dir: Path) -> pd.DataFrame:\n",
    "    filepaths_stimulation_recordings = list()\n",
    "    for elem in path_to_recordings_dir.iterdir():\n",
    "        if 'datapoints' not in elem.name:\n",
    "            if elem.name.endswith('.csv'):\n",
    "                filepaths_stimulation_recordings.append(elem)\n",
    "    stimulation_paradigms = {'stimulation_string': list(),\n",
    "                             'stimulation_frequency-Hz': list(),\n",
    "                             'stimulation_duration-ms': list(), \n",
    "                             'filepath_detected_events': list()}\n",
    "    for filepath in filepaths_stimulation_recordings:\n",
    "        filename = filepath.name\n",
    "        filename = filename.replace('.csv', '')\n",
    "        yyyy_mm_dd_ = filename[:11]\n",
    "        filename = filename.replace(yyyy_mm_dd_, '')\n",
    "        cell_id = filename[:filename.index('_')]\n",
    "        filename = filename.replace(cell_id + '_', '')\n",
    "        if 'Hz' in filename:\n",
    "            stimulation_frequency = int(filename[:filename.index('Hz')])\n",
    "            stimulation_duration = filename[filename.index('Hz') + 2 :]\n",
    "            if 'ms' not in stimulation_duration:\n",
    "                stimulation_duration = int(stimulation_duration[:stimulation_duration.find('s')]) * 1000\n",
    "            else:\n",
    "                stimulation_duration = int(stimulation_duration[:stimulation_duration.find('ms')])\n",
    "            stimulation_paradigm = f'{stimulation_frequency}-Hz_for_{stimulation_duration}-ms'\n",
    "        elif 'Bsl' in filename:\n",
    "            stimulation_frequency = np.NaN\n",
    "            stimulation_duration = np.NaN\n",
    "            stimulation_paradigm = 'baseline'\n",
    "        else:\n",
    "            print(f'Warning: stimulation paradigm could not be identified for: {filepath.name}')\n",
    "            stimulation_frequency = np.NaN\n",
    "            stimulation_duration = np.NaN\n",
    "            stimulation_paradigm = 'unknown'\n",
    "        stimulation_paradigms['stimulation_string'].append(stimulation_paradigm)\n",
    "        stimulation_paradigms['stimulation_frequency-Hz'].append(stimulation_frequency)\n",
    "        stimulation_paradigms['stimulation_duration-ms'].append(stimulation_duration)\n",
    "        stimulation_paradigms['filepath_detected_events'].append(filepath)\n",
    "    return pd.DataFrame(stimulation_paradigms)"
   ]
  },
  {
   "cell_type": "code",
   "execution_count": null,
   "id": "9617fd2d-2b91-4660-a261-a767c650fde3",
   "metadata": {},
   "outputs": [],
   "source": [
    "global_cell_id = 1"
   ]
  },
  {
   "cell_type": "code",
   "execution_count": null,
   "id": "77534877-335d-49ed-a263-a8051593df18",
   "metadata": {},
   "outputs": [],
   "source": [
    "str(global_cell_id).zfill(4)"
   ]
  },
  {
   "cell_type": "code",
   "execution_count": null,
   "id": "670b919e-79f9-490a-8a50-55deaaa86a78",
   "metadata": {},
   "outputs": [],
   "source": [
    "def get\n",
    "    general_metadata = get_general_metadata_df(cell_recording_dir)\n",
    "    stimulation_paradigms = get_stimulation_paradigms_df(cell_recording_dir)\n",
    "    stimulations_adjusted_general_metadata = pd.concat([general_metadata]*stimulation_paradigms.shape[0], ignore_index=True)\n",
    "    recordings_overview = pd.concat([stimulations_adjusted_general_metadata, stimulation_paradigms], axis=1)\n",
    "    recordings_overview['global_cell_id'] = str(global_cell_id).zfill(4)\n"
   ]
  },
  {
   "cell_type": "code",
   "execution_count": null,
   "id": "d52114cf-3b4e-41b5-8967-57f23afc5aec",
   "metadata": {},
   "outputs": [],
   "source": [
    "columns = ['global_cell_id', 'date', 'session_cell_id', 'mouse_line', 'sex', 'brain_region', 'cell_type', \n",
    "           'stimulation_string', 'stimulation_frequency-Hz', 'stimulation_duration-ms', 'filepath_detected_events']"
   ]
  },
  {
   "cell_type": "code",
   "execution_count": null,
   "id": "6cf7ef19-757d-4a5a-878a-0b5a37dcbd10",
   "metadata": {},
   "outputs": [],
   "source": [
    "recordings_overview[columns]"
   ]
  },
  {
   "cell_type": "code",
   "execution_count": null,
   "id": "dab068ff-3bb9-48d6-9efd-0305ac68dabc",
   "metadata": {},
   "outputs": [],
   "source": [
    "recordings_overview"
   ]
  },
  {
   "cell_type": "code",
   "execution_count": null,
   "id": "c74a7c9e-3a9b-4c8a-aeb7-0617fac1e39c",
   "metadata": {},
   "outputs": [],
   "source": [
    "stimulation_paradigms"
   ]
  },
  {
   "cell_type": "code",
   "execution_count": null,
   "id": "9b5b8bd6-8d48-4975-b0d5-ffa1c251c8c6",
   "metadata": {},
   "outputs": [],
   "source": [
    "df_cell = pd.DataFrame(recording_info)"
   ]
  },
  {
   "cell_type": "code",
   "execution_count": null,
   "id": "40ac4cc6-1d3a-42fe-a5a9-14a6bd8bd022",
   "metadata": {},
   "outputs": [],
   "source": [
    "df_cell"
   ]
  },
  {
   "cell_type": "code",
   "execution_count": null,
   "id": "696e8894-9ed0-44cc-b386-4a1094eafad7",
   "metadata": {},
   "outputs": [],
   "source": [
    "cell_recording_dir = Path('/mnt/c/Users/dsege/TEMP/Alexia/NET-cre_vGat-flp/2021_12_09_C2/')\n",
    "\n",
    "\n",
    "\n",
    "metadata_df = pd.read_excel(cell_recording_dir.joinpath(f'{cell_recording_dir.name}.xlsx'),\n",
    "                            sheet_name = 'General information')\n",
    "\n",
    "mix_and_matchable_categories = dict()\n",
    "\n",
    "general_metadata = {'mouse_line': metadata_df['Animal line'][0],\n",
    "                    'brain_region': metadata_df['Region'][0],\n",
    "                    'cell_type': metadata_df['Type'][0],\n",
    "                    'sex': metadata_df['Sex'][0]}\n",
    "\n",
    "filepaths_stimulation_recordings = list()\n",
    "for elem in cell_recording_dir.iterdir():\n",
    "    if 'datapoints' not in elem.name:\n",
    "        if elem.name.endswith('.csv'):\n",
    "            filepaths_stimulation_recordings.append(elem)\n",
    "\n",
    "\n",
    "stimulation_paradigms = dict()\n",
    "for filepath in filepaths_stimulation_recordings:\n",
    "    filename = filepath.name\n",
    "    filename = filename.replace('.csv', '')\n",
    "    yyyy_mm_dd_ = filename[:11]\n",
    "    filename = filename.replace(yyyy_mm_dd_, '')\n",
    "    cell_id = filename[:filename.index('_')]\n",
    "    filename = filename.replace(cell_id + '_', '')\n",
    "    if 'Hz' in filename:\n",
    "        stimulation_frequency = filename[:filename.index('Hz') + 2]\n",
    "        stimulation_duration = filename[filename.index('Hz') + 2 :]\n",
    "        stimulation_paradigm = f'{stimulation_frequency}_for_{stimulation_duration}'\n",
    "    elif 'Bsl' in filename:\n",
    "        stimulation_paradigm = 'baseline'\n",
    "    else:\n",
    "        print(f'Warning: stimulation paradigm could not be identified for: {filepath.name}')\n",
    "        stimulation_paradigm = 'unknown'\n",
    "    stimulation_paradigms[stimulation_paradigm] = filepath"
   ]
  },
  {
   "cell_type": "code",
   "execution_count": null,
   "id": "70c86837-1b7a-49af-adbc-8ba37f19ab9e",
   "metadata": {},
   "outputs": [],
   "source": []
  },
  {
   "cell_type": "code",
   "execution_count": null,
   "id": "b5d0e54b-5516-4425-8929-ef28a8b9ad8d",
   "metadata": {},
   "outputs": [],
   "source": [
    "filepaths_stimulation_recordings"
   ]
  },
  {
   "cell_type": "code",
   "execution_count": null,
   "id": "a69de78d-0cc6-4282-a9f5-f13b83827d18",
   "metadata": {},
   "outputs": [],
   "source": [
    "\n",
    "    \n",
    "    "
   ]
  },
  {
   "cell_type": "code",
   "execution_count": null,
   "id": "b0b6bd54-008a-49f6-acb2-1208339f079c",
   "metadata": {},
   "outputs": [],
   "source": [
    "stimulation_paradigms"
   ]
  },
  {
   "cell_type": "code",
   "execution_count": null,
   "id": "c265412d-4744-45c2-9cd7-89e70d80fe93",
   "metadata": {},
   "outputs": [],
   "source": [
    "?filename.replace"
   ]
  },
  {
   "cell_type": "code",
   "execution_count": null,
   "id": "2365adab-9beb-4e21-8f12-d12fcb5866cc",
   "metadata": {},
   "outputs": [],
   "source": [
    "metadata_df['Animal line'][0]"
   ]
  },
  {
   "cell_type": "code",
   "execution_count": null,
   "id": "123ec728-a4a9-452f-a65c-7cc6ea5b548c",
   "metadata": {},
   "outputs": [],
   "source": [
    "metadata_df"
   ]
  },
  {
   "cell_type": "code",
   "execution_count": null,
   "id": "036b7f7a-5efd-4200-a798-9a7156c36d26",
   "metadata": {},
   "outputs": [],
   "source": []
  },
  {
   "cell_type": "code",
   "execution_count": null,
   "id": "7a7d3949-48d2-474e-9bcf-6fb0852e08fe",
   "metadata": {},
   "outputs": [],
   "source": []
  },
  {
   "cell_type": "code",
   "execution_count": null,
   "id": "e283c39e-069d-4ec7-bbee-0a25e10c212f",
   "metadata": {},
   "outputs": [],
   "source": [
    "df = pd.read_excel(cell_recording_dir.as_posix() + '/' + cell_recording_dir.name + '.xlsx', sheet_name = 'General information')\n",
    "df"
   ]
  },
  {
   "cell_type": "code",
   "execution_count": null,
   "id": "e22426b4-8abc-4541-b701-1b7422f04af1",
   "metadata": {},
   "outputs": [],
   "source": [
    "df = pd.read_excel(cell_recording_dir.as_posix() + '/' + cell_recording_dir.name + '.xlsx', sheet_name = 'Recordings and cell properties', skiprows=2)\n",
    "df.drop(['Unnamed: 0'], axis=1, inplace=True)\n",
    "df.columns"
   ]
  },
  {
   "cell_type": "code",
   "execution_count": null,
   "id": "d87c447f-a489-496e-9771-b8b98f48c4f4",
   "metadata": {},
   "outputs": [],
   "source": [
    "dfs['General information']"
   ]
  },
  {
   "cell_type": "code",
   "execution_count": null,
   "id": "30a26853-f81e-4850-bc20-5d9c06ffd72a",
   "metadata": {},
   "outputs": [],
   "source": [
    "dfs['Recordings and cell properties']"
   ]
  },
  {
   "cell_type": "code",
   "execution_count": null,
   "id": "81461a7c-a3f0-43e6-acf4-8f8a763e8d43",
   "metadata": {},
   "outputs": [],
   "source": [
    "for elem in cell_recording_dir.iterdir():\n",
    "    print(elem)"
   ]
  },
  {
   "cell_type": "code",
   "execution_count": null,
   "id": "df15321a-60ec-4446-a8e0-7f0f962691c6",
   "metadata": {},
   "outputs": [],
   "source": [
    "pd.read_csv(filepath)"
   ]
  },
  {
   "cell_type": "code",
   "execution_count": null,
   "id": "815ad5fb-c30f-48a2-b87f-7f2b3b577f3a",
   "metadata": {},
   "outputs": [],
   "source": [
    "path = Path('/mnt/c/Users/dsege/TEMP/Alexia/')"
   ]
  },
  {
   "cell_type": "code",
   "execution_count": null,
   "id": "eb32b06f-7b8d-4e08-83e6-7714cb0e41c8",
   "metadata": {},
   "outputs": [],
   "source": [
    "for elem in path.iterdir():\n",
    "    print(elem)"
   ]
  },
  {
   "cell_type": "code",
   "execution_count": null,
   "id": "44903f33-b3ca-4e16-ba42-046dd4fccff4",
   "metadata": {},
   "outputs": [],
   "source": [
    "for elem in path.glob(pattern='*'):\n",
    "    print(elem)"
   ]
  },
  {
   "cell_type": "code",
   "execution_count": null,
   "id": "4c702871-62ad-49d1-a570-79d895aef92f",
   "metadata": {},
   "outputs": [],
   "source": [
    "path.parts"
   ]
  },
  {
   "cell_type": "code",
   "execution_count": null,
   "id": "c0b0794d-2163-4638-b713-f8a87477ec9c",
   "metadata": {},
   "outputs": [],
   "source": [
    "database = Database(path)"
   ]
  },
  {
   "cell_type": "code",
   "execution_count": null,
   "id": "3592b935-9bbe-4fa5-a804-3499f4df1a94",
   "metadata": {},
   "outputs": [],
   "source": []
  },
  {
   "cell_type": "code",
   "execution_count": null,
   "id": "eb571cc5-7bba-4b72-9c39-08c44b01f7a3",
   "metadata": {},
   "outputs": [],
   "source": [
    "import os\n",
    "from pathlib import Path\n",
    "from abc import ABC, abstractmethod\n",
    "\n",
    "class Feature(ABC):\n",
    "    \n",
    "    @abstractmethod\n",
    "    def add_to_database(self):\n",
    "        pass\n",
    "    \n",
    "\n",
    "class CellRecording(Feature):\n",
    "    \n",
    "    def add_to_database(self):\n",
    "        pass\n",
    "    \n",
    "    \n",
    "class Subdirectories:\n",
    "    \n",
    "    def __init__(self, root_dir: Path):\n",
    "        self.root_dir = root_dir\n",
    "        self.create_missing_subdirectories()\n",
    "        self.assign_subdirectories_as_attributes()\n",
    "        \n",
    "    def create_missing_subdirectories(self):\n",
    "        # check for each element in a list of subdirs, whether they exist --> create if not\n",
    "        pass\n",
    "    \n",
    "    def assign_subdirectories_as_attributes(self):\n",
    "        # use list of subdirs and set the path to each as attribute\n",
    "        pass   \n",
    "\n",
    "\n",
    "class Database:\n",
    "    \n",
    "    \"\"\"\n",
    "    The database is supposed to hold all information about all recorded cells that were added to it.\n",
    "    These information exclude the raw data (only contain filepaths to raw data),\n",
    "    but include general metadata like celltype, stimulus type, brain region, pharamacological treatment.\n",
    "    Potentially, some intermediate data could be added (like how the cell reacted upon stimulation, see dashboard).\n",
    "    Overall, the database should allow the selection of cells based on mix-and-match criteria \n",
    "    for further (statistical) analyses and plotting.\n",
    "    \"\"\"\n",
    "    \n",
    "    def __init__(self, root_dir: Path):\n",
    "        self.root_dir = root_dir\n",
    "        self.subdirectories = Subdirectories(root_dir = root_dir)\n",
    "\n",
    "    def load_database_from_disk(self):\n",
    "        # Option to load previously created and saved database\n",
    "        pass\n",
    "    \n",
    "    def save_database_to_disk(self):\n",
    "        # Save all information to disk\n",
    "        pass\n",
    "    \n",
    "    def add_new_feature(self, new_feature: Feature):\n",
    "        # By providing the Path to a new directory, the user has the option to add new recordings to the database\n",
    "        # should trigger the database to update itself (e.g. categories dictionary)\n",
    "        pass\n",
    "\n",
    "\n",
    "    \n",
    "\n",
    "        \n"
   ]
  },
  {
   "cell_type": "code",
   "execution_count": null,
   "id": "11254dbd-659f-4f6a-9fef-c27fa8e86b8d",
   "metadata": {},
   "outputs": [],
   "source": []
  }
 ],
 "metadata": {
  "kernelspec": {
   "display_name": "Python 3 (ipykernel)",
   "language": "python",
   "name": "python3"
  },
  "language_info": {
   "codemirror_mode": {
    "name": "ipython",
    "version": 3
   },
   "file_extension": ".py",
   "mimetype": "text/x-python",
   "name": "python",
   "nbconvert_exporter": "python",
   "pygments_lexer": "ipython3",
   "version": "3.7.12"
  }
 },
 "nbformat": 4,
 "nbformat_minor": 5
}
