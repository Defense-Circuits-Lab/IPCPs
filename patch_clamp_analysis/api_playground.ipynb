{
 "cells": [
  {
   "cell_type": "code",
   "execution_count": 1,
   "id": "20edabb6-5273-49aa-a9d5-4eaba676c761",
   "metadata": {
    "tags": []
   },
   "outputs": [],
   "source": [
    "from pathlib import Path\n",
    "from dclpatch.main import PatchProject"
   ]
  },
  {
   "cell_type": "code",
   "execution_count": 2,
   "id": "81a4e996-283c-4b23-bef4-8c75001c7c5b",
   "metadata": {},
   "outputs": [],
   "source": [
    "root_dir_path = Path('/mnt/c/Users/dsege/TEMP/Alexia/analysis_with_dcl_patch/')"
   ]
  },
  {
   "cell_type": "code",
   "execution_count": 3,
   "id": "345be5ea-9140-46c9-8e57-5d1417314aa2",
   "metadata": {},
   "outputs": [],
   "source": [
    "api = PatchProject(root_dir = root_dir_path)"
   ]
  },
  {
   "cell_type": "code",
   "execution_count": 4,
   "id": "7621efd4-b0af-432d-9fe1-6a26f0dd4e37",
   "metadata": {},
   "outputs": [
    {
     "name": "stdout",
     "output_type": "stream",
     "text": [
      "Warning! When I tried to load the data of the following path:\n",
      "/mnt/c/Users/dsege/TEMP/Alexia/sample_data/2021_11_16_C4\n",
      "For now, I skipped these data to continue. Try loading that dataset individually to see more details about the Error.\n",
      "_________________________________________\n",
      "Warning! When I tried to load the data of the following path:\n",
      "/mnt/c/Users/dsege/TEMP/Alexia/sample_data/2021_11_17_C2\n",
      "For now, I skipped these data to continue. Try loading that dataset individually to see more details about the Error.\n",
      "_________________________________________\n",
      "Warning! When I tried to load the data of the following path:\n",
      "/mnt/c/Users/dsege/TEMP/Alexia/sample_data/2022_01_25_C2\n",
      "For now, I skipped these data to continue. Try loading that dataset individually to see more details about the Error.\n",
      "_________________________________________\n",
      "Warning! When I tried to load the data of the following path:\n",
      "/mnt/c/Users/dsege/TEMP/Alexia/sample_data/2022_03_15_C1\n",
      "For now, I skipped these data to continue. Try loading that dataset individually to see more details about the Error.\n",
      "_________________________________________\n",
      "Warning! When I tried to load the data of the following path:\n",
      "/mnt/c/Users/dsege/TEMP/Alexia/sample_data/2022_03_15_C2\n",
      "For now, I skipped these data to continue. Try loading that dataset individually to see more details about the Error.\n",
      "_________________________________________\n",
      "Warning! When I tried to load the data of the following path:\n",
      "/mnt/c/Users/dsege/TEMP/Alexia/sample_data/2022_03_15_C3\n",
      "For now, I skipped these data to continue. Try loading that dataset individually to see more details about the Error.\n",
      "_________________________________________\n",
      "Warning! When I tried to load the data of the following path:\n",
      "/mnt/c/Users/dsege/TEMP/Alexia/sample_data/2022_03_15_C5\n",
      "For now, I skipped these data to continue. Try loading that dataset individually to see more details about the Error.\n",
      "_________________________________________\n"
     ]
    }
   ],
   "source": [
    "path_to_all_cell_recordings = Path('/mnt/c/Users/dsege/TEMP/Alexia/sample_data/')\n",
    "api.add_all_cells_to_database(path_with_cell_recordings_as_subdirs = path_to_all_cell_recordings, overwrite=True)"
   ]
  },
  {
   "cell_type": "code",
   "execution_count": 7,
   "id": "770c985d-0176-432d-83a4-84e9352ae2e5",
   "metadata": {},
   "outputs": [],
   "source": [
    "path_to_cell_recordings_dir = Path('/mnt/c/Users/dsege/TEMP/Alexia/sample_data/2022_03_15_C5')"
   ]
  },
  {
   "cell_type": "code",
   "execution_count": 8,
   "id": "bd82c084-dc29-421c-9541-e59b79e4cc69",
   "metadata": {},
   "outputs": [
    {
     "ename": "ValueError",
     "evalue": "There are multiple \"Bsl\" identifiers in the following excel sheet:\n/mnt/c/Users/dsege/TEMP/Alexia/sample_data/2022_03_15_C5/2022_03_15_C5.xlsx\nIf this is a control baseline, please use \"Bsl2\" as identifier.\nIf these baselines come from IPSP and EPSP recordings, please split these data in two different tabs.",
     "output_type": "error",
     "traceback": [
      "\u001b[0;31m---------------------------------------------------------------------------\u001b[0m",
      "\u001b[0;31mValueError\u001b[0m                                Traceback (most recent call last)",
      "\u001b[0;32m/tmp/ipykernel_1661/3377062178.py\u001b[0m in \u001b[0;36m<module>\u001b[0;34m\u001b[0m\n\u001b[0;32m----> 1\u001b[0;31m \u001b[0mapi\u001b[0m\u001b[0;34m.\u001b[0m\u001b[0madd_cell_to_database\u001b[0m\u001b[0;34m(\u001b[0m\u001b[0mpath_to_cell_recordings_dir\u001b[0m \u001b[0;34m=\u001b[0m \u001b[0mpath_to_cell_recordings_dir\u001b[0m\u001b[0;34m)\u001b[0m\u001b[0;34m\u001b[0m\u001b[0;34m\u001b[0m\u001b[0m\n\u001b[0m",
      "\u001b[0;32m~/GitHub_repos/DCLmeetsRETUNE/patch_clamp_analysis/dclpatch/main.py\u001b[0m in \u001b[0;36madd_cell_to_database\u001b[0;34m(self, path_to_cell_recordings_dir, overwrite)\u001b[0m\n\u001b[1;32m     24\u001b[0m \u001b[0;34m\u001b[0m\u001b[0m\n\u001b[1;32m     25\u001b[0m     \u001b[0;32mdef\u001b[0m \u001b[0madd_cell_to_database\u001b[0m\u001b[0;34m(\u001b[0m\u001b[0mself\u001b[0m\u001b[0;34m,\u001b[0m \u001b[0mpath_to_cell_recordings_dir\u001b[0m\u001b[0;34m:\u001b[0m \u001b[0mPath\u001b[0m\u001b[0;34m,\u001b[0m \u001b[0moverwrite\u001b[0m\u001b[0;34m:\u001b[0m \u001b[0mbool\u001b[0m\u001b[0;34m=\u001b[0m\u001b[0;32mFalse\u001b[0m\u001b[0;34m)\u001b[0m\u001b[0;34m:\u001b[0m\u001b[0;34m\u001b[0m\u001b[0;34m\u001b[0m\u001b[0m\n\u001b[0;32m---> 26\u001b[0;31m         \u001b[0mself\u001b[0m\u001b[0;34m.\u001b[0m\u001b[0mdatabase\u001b[0m\u001b[0;34m.\u001b[0m\u001b[0madd_new_cell_recording\u001b[0m\u001b[0;34m(\u001b[0m\u001b[0mcell_recordings_dir\u001b[0m \u001b[0;34m=\u001b[0m \u001b[0mpath_to_cell_recordings_dir\u001b[0m\u001b[0;34m,\u001b[0m \u001b[0moverwrite\u001b[0m \u001b[0;34m=\u001b[0m \u001b[0moverwrite\u001b[0m\u001b[0;34m)\u001b[0m\u001b[0;34m\u001b[0m\u001b[0;34m\u001b[0m\u001b[0m\n\u001b[0m\u001b[1;32m     27\u001b[0m \u001b[0;34m\u001b[0m\u001b[0m\n\u001b[1;32m     28\u001b[0m     \u001b[0;32mdef\u001b[0m \u001b[0mremove_cell_from_database\u001b[0m\u001b[0;34m(\u001b[0m\u001b[0mself\u001b[0m\u001b[0;34m)\u001b[0m\u001b[0;34m:\u001b[0m\u001b[0;34m\u001b[0m\u001b[0;34m\u001b[0m\u001b[0m\n",
      "\u001b[0;32m~/GitHub_repos/DCLmeetsRETUNE/patch_clamp_analysis/dclpatch/database.py\u001b[0m in \u001b[0;36madd_new_cell_recording\u001b[0;34m(self, cell_recordings_dir, overwrite)\u001b[0m\n\u001b[1;32m     80\u001b[0m \u001b[0;34m\u001b[0m\u001b[0m\n\u001b[1;32m     81\u001b[0m         \u001b[0;32mif\u001b[0m \u001b[0mcell_recordings_dir\u001b[0m\u001b[0;34m.\u001b[0m\u001b[0mname\u001b[0m \u001b[0;32mnot\u001b[0m \u001b[0;32min\u001b[0m \u001b[0mself\u001b[0m\u001b[0;34m.\u001b[0m\u001b[0mcells_in_database\u001b[0m\u001b[0;34m:\u001b[0m\u001b[0;34m\u001b[0m\u001b[0;34m\u001b[0m\u001b[0m\n\u001b[0;32m---> 82\u001b[0;31m             \u001b[0mnew_recording\u001b[0m \u001b[0;34m=\u001b[0m \u001b[0mCellRecording\u001b[0m\u001b[0;34m(\u001b[0m\u001b[0mcell_recordings_dir\u001b[0m \u001b[0;34m=\u001b[0m \u001b[0mcell_recordings_dir\u001b[0m\u001b[0;34m,\u001b[0m \u001b[0mglobal_cell_id\u001b[0m \u001b[0;34m=\u001b[0m \u001b[0mglobal_cell_id\u001b[0m\u001b[0;34m)\u001b[0m\u001b[0;34m\u001b[0m\u001b[0;34m\u001b[0m\u001b[0m\n\u001b[0m\u001b[1;32m     83\u001b[0m             \u001b[0mrecording_overview\u001b[0m \u001b[0;34m=\u001b[0m \u001b[0mnew_recording\u001b[0m\u001b[0;34m.\u001b[0m\u001b[0mcreate_recordings_overview\u001b[0m\u001b[0;34m(\u001b[0m\u001b[0;34m)\u001b[0m\u001b[0;34m\u001b[0m\u001b[0;34m\u001b[0m\u001b[0m\n\u001b[1;32m     84\u001b[0m             \u001b[0;32mif\u001b[0m \u001b[0mhasattr\u001b[0m\u001b[0;34m(\u001b[0m\u001b[0mself\u001b[0m\u001b[0;34m,\u001b[0m \u001b[0;34m'cell_recordings_metadata'\u001b[0m\u001b[0;34m)\u001b[0m \u001b[0;34m==\u001b[0m \u001b[0;32mFalse\u001b[0m\u001b[0;34m:\u001b[0m\u001b[0;34m\u001b[0m\u001b[0;34m\u001b[0m\u001b[0m\n",
      "\u001b[0;32m~/GitHub_repos/DCLmeetsRETUNE/patch_clamp_analysis/dclpatch/database.py\u001b[0m in \u001b[0;36m__init__\u001b[0;34m(self, cell_recordings_dir, global_cell_id)\u001b[0m\n\u001b[1;32m    154\u001b[0m                                                  \u001b[0;34m'inhibitory_voltage_clamp_recordings'\u001b[0m\u001b[0;34m:\u001b[0m \u001b[0;32mNone\u001b[0m\u001b[0;34m,\u001b[0m\u001b[0;34m\u001b[0m\u001b[0;34m\u001b[0m\u001b[0m\n\u001b[1;32m    155\u001b[0m                                                  'current_clamp_recordings': None}\n\u001b[0;32m--> 156\u001b[0;31m         \u001b[0mself\u001b[0m\u001b[0;34m.\u001b[0m\u001b[0mextract_all_data_from_directory\u001b[0m\u001b[0;34m(\u001b[0m\u001b[0;34m)\u001b[0m\u001b[0;34m\u001b[0m\u001b[0;34m\u001b[0m\u001b[0m\n\u001b[0m\u001b[1;32m    157\u001b[0m \u001b[0;34m\u001b[0m\u001b[0m\n\u001b[1;32m    158\u001b[0m \u001b[0;34m\u001b[0m\u001b[0m\n",
      "\u001b[0;32m~/GitHub_repos/DCLmeetsRETUNE/patch_clamp_analysis/dclpatch/database.py\u001b[0m in \u001b[0;36mextract_all_data_from_directory\u001b[0;34m(self)\u001b[0m\n\u001b[1;32m    161\u001b[0m         \u001b[0mrecording_type_data_extractors\u001b[0m \u001b[0;34m=\u001b[0m \u001b[0mself\u001b[0m\u001b[0;34m.\u001b[0m\u001b[0mprepare_all_recording_type_data_extractors\u001b[0m\u001b[0;34m(\u001b[0m\u001b[0;34m)\u001b[0m\u001b[0;34m\u001b[0m\u001b[0;34m\u001b[0m\u001b[0m\n\u001b[1;32m    162\u001b[0m         \u001b[0;32mfor\u001b[0m \u001b[0mdata_extractor\u001b[0m \u001b[0;32min\u001b[0m \u001b[0mrecording_type_data_extractors\u001b[0m\u001b[0;34m:\u001b[0m\u001b[0;34m\u001b[0m\u001b[0;34m\u001b[0m\u001b[0m\n\u001b[0;32m--> 163\u001b[0;31m             \u001b[0mextracted_df\u001b[0m \u001b[0;34m=\u001b[0m \u001b[0mdata_extractor\u001b[0m\u001b[0;34m.\u001b[0m\u001b[0mcreate_recording_specific_dataframe\u001b[0m\u001b[0;34m(\u001b[0m\u001b[0mcell_recording_obj\u001b[0m \u001b[0;34m=\u001b[0m \u001b[0mself\u001b[0m\u001b[0;34m)\u001b[0m\u001b[0;34m\u001b[0m\u001b[0;34m\u001b[0m\u001b[0m\n\u001b[0m\u001b[1;32m    164\u001b[0m             \u001b[0mself\u001b[0m\u001b[0;34m.\u001b[0m\u001b[0mrecording_type_specific_datasets\u001b[0m\u001b[0;34m[\u001b[0m\u001b[0mdata_extractor\u001b[0m\u001b[0;34m.\u001b[0m\u001b[0mrecording_type_key\u001b[0m\u001b[0;34m]\u001b[0m \u001b[0;34m=\u001b[0m \u001b[0mextracted_df\u001b[0m\u001b[0;34m\u001b[0m\u001b[0;34m\u001b[0m\u001b[0m\n\u001b[1;32m    165\u001b[0m \u001b[0;34m\u001b[0m\u001b[0m\n",
      "\u001b[0;32m~/GitHub_repos/DCLmeetsRETUNE/patch_clamp_analysis/dclpatch/database.py\u001b[0m in \u001b[0;36mcreate_recording_specific_dataframe\u001b[0;34m(self, cell_recording_obj)\u001b[0m\n\u001b[1;32m    220\u001b[0m     \u001b[0;32mdef\u001b[0m \u001b[0mcreate_recording_specific_dataframe\u001b[0m\u001b[0;34m(\u001b[0m\u001b[0mself\u001b[0m\u001b[0;34m,\u001b[0m \u001b[0mcell_recording_obj\u001b[0m\u001b[0;34m:\u001b[0m \u001b[0mCellRecording\u001b[0m\u001b[0;34m)\u001b[0m \u001b[0;34m->\u001b[0m \u001b[0mDataFrame\u001b[0m\u001b[0;34m:\u001b[0m\u001b[0;34m\u001b[0m\u001b[0;34m\u001b[0m\u001b[0m\n\u001b[1;32m    221\u001b[0m         \u001b[0minput_df\u001b[0m \u001b[0;34m=\u001b[0m \u001b[0mself\u001b[0m\u001b[0;34m.\u001b[0m\u001b[0mreshape_df\u001b[0m\u001b[0;34m(\u001b[0m\u001b[0mdf\u001b[0m \u001b[0;34m=\u001b[0m \u001b[0mself\u001b[0m\u001b[0;34m.\u001b[0m\u001b[0minput_df\u001b[0m\u001b[0;34m.\u001b[0m\u001b[0mcopy\u001b[0m\u001b[0;34m(\u001b[0m\u001b[0;34m)\u001b[0m\u001b[0;34m)\u001b[0m\u001b[0;34m\u001b[0m\u001b[0;34m\u001b[0m\u001b[0m\n\u001b[0;32m--> 222\u001b[0;31m         \u001b[0mself\u001b[0m\u001b[0;34m.\u001b[0m\u001b[0mcheck_for_baseline_duplicates\u001b[0m\u001b[0;34m(\u001b[0m\u001b[0mdf\u001b[0m \u001b[0;34m=\u001b[0m \u001b[0minput_df\u001b[0m\u001b[0;34m,\u001b[0m \u001b[0mcell_recording_obj\u001b[0m \u001b[0;34m=\u001b[0m \u001b[0mcell_recording_obj\u001b[0m\u001b[0;34m)\u001b[0m\u001b[0;34m\u001b[0m\u001b[0;34m\u001b[0m\u001b[0m\n\u001b[0m\u001b[1;32m    223\u001b[0m         \u001b[0mcolumns\u001b[0m \u001b[0;34m=\u001b[0m \u001b[0mlist\u001b[0m\u001b[0;34m(\u001b[0m\u001b[0minput_df\u001b[0m\u001b[0;34m.\u001b[0m\u001b[0mcolumns\u001b[0m\u001b[0;34m)\u001b[0m\u001b[0;34m\u001b[0m\u001b[0;34m\u001b[0m\u001b[0m\n\u001b[1;32m    224\u001b[0m         \u001b[0mrelevant_data_columns\u001b[0m \u001b[0;34m=\u001b[0m \u001b[0mcolumns\u001b[0m\u001b[0;34m[\u001b[0m\u001b[0mcolumns\u001b[0m\u001b[0;34m.\u001b[0m\u001b[0mindex\u001b[0m\u001b[0;34m(\u001b[0m\u001b[0;34m'Pharmacology'\u001b[0m\u001b[0;34m)\u001b[0m \u001b[0;34m+\u001b[0m \u001b[0;36m1\u001b[0m \u001b[0;34m:\u001b[0m\u001b[0;34m]\u001b[0m\u001b[0;34m\u001b[0m\u001b[0;34m\u001b[0m\u001b[0m\n",
      "\u001b[0;32m~/GitHub_repos/DCLmeetsRETUNE/patch_clamp_analysis/dclpatch/database.py\u001b[0m in \u001b[0;36mcheck_for_baseline_duplicates\u001b[0;34m(self, df, cell_recording_obj)\u001b[0m\n\u001b[1;32m    253\u001b[0m             \u001b[0merror_message_line4\u001b[0m \u001b[0;34m=\u001b[0m \u001b[0;34m'If these baselines come from IPSP and EPSP recordings, please split these data in two different tabs.'\u001b[0m\u001b[0;34m\u001b[0m\u001b[0;34m\u001b[0m\u001b[0m\n\u001b[1;32m    254\u001b[0m             \u001b[0merror_message\u001b[0m \u001b[0;34m=\u001b[0m \u001b[0merror_message_line1\u001b[0m \u001b[0;34m+\u001b[0m \u001b[0merror_message_line2\u001b[0m \u001b[0;34m+\u001b[0m \u001b[0merror_message_line3\u001b[0m \u001b[0;34m+\u001b[0m \u001b[0merror_message_line4\u001b[0m\u001b[0;34m\u001b[0m\u001b[0;34m\u001b[0m\u001b[0m\n\u001b[0;32m--> 255\u001b[0;31m             \u001b[0;32mraise\u001b[0m \u001b[0mValueError\u001b[0m\u001b[0;34m(\u001b[0m\u001b[0merror_message\u001b[0m\u001b[0;34m)\u001b[0m\u001b[0;34m\u001b[0m\u001b[0;34m\u001b[0m\u001b[0m\n\u001b[0m\u001b[1;32m    256\u001b[0m \u001b[0;34m\u001b[0m\u001b[0m\n\u001b[1;32m    257\u001b[0m \u001b[0;34m\u001b[0m\u001b[0m\n",
      "\u001b[0;31mValueError\u001b[0m: There are multiple \"Bsl\" identifiers in the following excel sheet:\n/mnt/c/Users/dsege/TEMP/Alexia/sample_data/2022_03_15_C5/2022_03_15_C5.xlsx\nIf this is a control baseline, please use \"Bsl2\" as identifier.\nIf these baselines come from IPSP and EPSP recordings, please split these data in two different tabs."
     ]
    }
   ],
   "source": [
    "api.add_cell_to_database(path_to_cell_recordings_dir = path_to_cell_recordings_dir)"
   ]
  },
  {
   "cell_type": "code",
   "execution_count": 9,
   "id": "3399b404-292c-4a61-b62e-8546242cfbe8",
   "metadata": {},
   "outputs": [
    {
     "data": {
      "image/png": "[encoded data removed]",
      "text/plain": [
       "<Figure size 864x432 with 4 Axes>"
      ]
     },
     "metadata": {},
     "output_type": "display_data"
    }
   ],
   "source": [
    "#analysis_type = 'CDF' or 'Boxplot' (Boxplot not working for single cell)\n",
    "#recording_type = 'EPSPs', 'IPSPs', or 'current_clamp'\n",
    "api.compare_on_single_cell_level(global_cell_id = '0007', analysis_type = 'CDF', recording_type = 'EPSPs')"
   ]
  },
  {
   "cell_type": "code",
   "execution_count": 22,
   "id": "d26905a6-516f-4515-8991-9d670edeaf9d",
   "metadata": {},
   "outputs": [
    {
     "name": "stdout",
     "output_type": "stream",
     "text": [
      "Warning: Please be aware that I detected inconsistent values for the column \"mouse_line\":\n",
      "\n",
      "--> ['NET-cre:vGlut2-flp', 'NET-ires-cre:vGlut2-flp']\n",
      "\n",
      "You might consider adding all but one to the exclusion criteria!\n",
      "_______________________________________\n",
      "Warning: Please be aware that I detected inconsistent values for the column \"internal_solution\":\n",
      "\n",
      "--> ['Kglu + 1ug bio', 'Kglu = bio']\n",
      "\n",
      "You might consider adding all but one to the exclusion criteria!\n",
      "_______________________________________\n"
     ]
    },
    {
     "data": {
      "image/png": "[encoded data removed]",
      "text/plain": [
       "<Figure size 1152x1080 with 15 Axes>"
      ]
     },
     "metadata": {},
     "output_type": "display_data"
    }
   ],
   "source": [
    "exclusion_criteria = {'internal_solution': 'Kglu = bio', 'internal_solution': 'Kglu + 1.78ug bio'}\n",
    "#inclusion_criteria = {'cell_type': 'Glutamatergic'}\n",
    "api.compare_within_group(group_column = 'brain_region', group_id = 'vlPAG', analysis_type = 'Boxplot', recording_type = 'EPSPs', \n",
    "                         include = inclusion_criteria, exclude = exclusion_criteria, save = True)"
   ]
  },
  {
   "cell_type": "code",
   "execution_count": null,
   "id": "fc3127ca-33f6-453c-b646-aa5e42cbd9cb",
   "metadata": {},
   "outputs": [],
   "source": [
    "api.save_database()"
   ]
  },
  {
   "cell_type": "markdown",
   "id": "baa89fcb-1398-42e1-b6c1-20dc44ed21e8",
   "metadata": {
    "tags": []
   },
   "source": [
    "# Code development"
   ]
  },
  {
   "cell_type": "code",
   "execution_count": null,
   "id": "3faabd79-2440-42a7-ba79-8e9812caac71",
   "metadata": {},
   "outputs": [],
   "source": [
    "df = api.database.excitatory_voltage_clamp_recordings.copy()"
   ]
  },
  {
   "cell_type": "code",
   "execution_count": null,
   "id": "1e6a7db2-fefb-4d41-a936-741cf80a6585",
   "metadata": {},
   "outputs": [],
   "source": [
    "api.database.excitatory_voltage_clamp_recordings.columns"
   ]
  },
  {
   "cell_type": "code",
   "execution_count": null,
   "id": "7f89ceed-7d31-46b8-94b2-fa37fc5e5645",
   "metadata": {},
   "outputs": [],
   "source": [
    "import pandas as pd"
   ]
  },
  {
   "cell_type": "code",
   "execution_count": null,
   "id": "17ec029e-df00-437f-8464-ac36ce6cdebc",
   "metadata": {},
   "outputs": [],
   "source": [
    "include = {'cell_type': 'GABA'}"
   ]
  },
  {
   "cell_type": "code",
   "execution_count": null,
   "id": "145e7ff5-bbf9-411e-b8ff-0951003c688c",
   "metadata": {},
   "outputs": [],
   "source": [
    "exclude = {'session_cell_id': 'C3'}"
   ]
  },
  {
   "cell_type": "code",
   "execution_count": null,
   "id": "e4631fc6-df6a-44e8-9893-ee45fec36f3c",
   "metadata": {},
   "outputs": [],
   "source": [
    "def apply_inclusion_criteria(df: DataFrame, inclusion_criteria: Dict) -> DataFrame:\n",
    "    chunks_of_df_to_include = []\n",
    "    for key, value in inclusion_criteria.items():\n",
    "        if key not in df.columns:\n",
    "            raise ValueError(f'{key} has to be in columns of the DataFrame. Please find a list of all possible columns: {list(df.columns)}')\n",
    "        else:\n",
    "            if type(value) == str:\n",
    "                chunks_of_df_to_include.append(df.loc[df[key] == value].copy())\n",
    "            else:\n",
    "                raise ValueError(f'{value} is not a valid input! Only strings (e.g. \"vlPAG\") are possible, simply add a column multiple times with different values if needed.')\n",
    "    df_after_inclusions = pd.concat(chunks_of_df_to_include, ignore_index = True)\n",
    "    df_after_inclusions = df_after_inclusions.drop_duplicates(ignore_index = True)\n",
    "    return df_after_inclusions\n",
    "\n",
    "def apply_exclusion_criteria(df: DataFrame, exclusion_criteria: Dict) -> DataFrame:\n",
    "    df_after_exclusions = df.copy()\n",
    "    for key, value in exclusion_criteria.items():\n",
    "        if key not in df.columns:\n",
    "            raise ValueError(f'{key} has to be in columns of the DataFrame. Please find a list of all possible columns: {list(df.columns)}')\n",
    "        else:\n",
    "            if type(value) == str:\n",
    "                df_after_exclusions = df_after_exclusions.loc[df_after_exclusions[key] != value]\n",
    "            else:\n",
    "                raise ValueError(f'{value} is not a valid input! Only strings (e.g. \"vlPAG\") are possible, simply add a column multiple times with different values if needed.')\n",
    "    return df_after_exclusions\n"
   ]
  },
  {
   "cell_type": "code",
   "execution_count": null,
   "id": "b08365ae-c274-4bd9-97b5-5358538db866",
   "metadata": {},
   "outputs": [],
   "source": [
    "4 % 4"
   ]
  },
  {
   "cell_type": "code",
   "execution_count": null,
   "id": "dcb77e96-09c9-45b7-ab34-8baa0f6df6be",
   "metadata": {},
   "outputs": [],
   "source": [
    "df_after_inclusions"
   ]
  },
  {
   "cell_type": "code",
   "execution_count": null,
   "id": "e9ad6933-7c0a-430a-a223-df882535f9be",
   "metadata": {},
   "outputs": [],
   "source": [
    "df['cell_type'].unique()"
   ]
  },
  {
   "cell_type": "code",
   "execution_count": null,
   "id": "d3fdfa6e-33c4-4bd2-9092-e727bcacbb4d",
   "metadata": {},
   "outputs": [],
   "source": [
    "import seaborn as sns\n",
    "\n",
    "columns = list(df.columns)\n",
    "relevant_columns = columns[columns.index('pharmacology') + 1 : columns.index('filepath_main_excel_sheet')]\n",
    "\n",
    "for column in relevant_columns:\n",
    "    sns.stripplot(data=df.loc[df['cell_type'] == 'GABA'], y = column, x = 'stimulation_string')"
   ]
  },
  {
   "cell_type": "code",
   "execution_count": null,
   "id": "7645f782-3775-43c0-bf1a-bbf6ad3d40c3",
   "metadata": {},
   "outputs": [],
   "source": [
    "def run_analysis(self, group_column: str, group_id: str, show: bool, save: bool):\n",
    "    self.group_column = group_column\n",
    "    self.group_id = group_id\n",
    "    \n",
    "    \n",
    "    \n",
    "    filepaths = self.get_all_recording_filepaths()\n",
    "    for recording_filepath in filepaths:\n",
    "        self.get_data_for_cumulative_distributions(filepath = recording_filepath)\n",
    "    df_all_events = pd.DataFrame(data=self.events_all_stim_paradigms)\n",
    "    self.plot_cdfs(data = df_all_events,\n",
    "                   columns_for_cdfs = ['amplitude', 'inter_event_interval'], \n",
    "                   show = show,\n",
    "                   save = save)"
   ]
  },
  {
   "cell_type": "code",
   "execution_count": null,
   "id": "7a41200a-b33c-4739-8ec4-f1dd4f7c82ac",
   "metadata": {},
   "outputs": [],
   "source": []
  },
  {
   "cell_type": "code",
   "execution_count": null,
   "id": "e4b18bb0-3194-46ae-8560-67f2b1b6906f",
   "metadata": {},
   "outputs": [],
   "source": []
  },
  {
   "cell_type": "code",
   "execution_count": null,
   "id": "0f5bc4b3-0b98-4e94-b66b-b96db1937a0e",
   "metadata": {},
   "outputs": [],
   "source": []
  },
  {
   "cell_type": "code",
   "execution_count": null,
   "id": "6ad656ed-481a-46cb-a538-6d24d8c9ce38",
   "metadata": {},
   "outputs": [],
   "source": [
    "name = '.2021_12_09_C2'"
   ]
  },
  {
   "cell_type": "code",
   "execution_count": null,
   "id": "28ff0e3a-8704-4404-8b5c-4a2abbf46ee8",
   "metadata": {},
   "outputs": [],
   "source": [
    "if name.startswith('.') == False:\n",
    "    print('no_hidden_file')"
   ]
  },
  {
   "cell_type": "code",
   "execution_count": null,
   "id": "4cb0c9e3-0f9e-4674-9d4a-b96515cf44ff",
   "metadata": {},
   "outputs": [],
   "source": [
    "[3] * 5 + [7]"
   ]
  },
  {
   "cell_type": "code",
   "execution_count": null,
   "id": "722853f9-df2d-498c-b1fd-32077ccab196",
   "metadata": {},
   "outputs": [],
   "source": [
    "relevant_columns1 = ['recording_type','pharmacology', 'filepath_main_excel_sheet', 'filepath_detected_events']\n",
    "relevant_columns2 = ['stimulation_string', 'stimulation_frequency-Hz', 'stimulation_duration-ms']\n",
    "\n",
    "relevant_columns1 + relevant_columns2"
   ]
  },
  {
   "cell_type": "code",
   "execution_count": null,
   "id": "ccc6115e-77bc-4b2b-a116-dc5bf84919bf",
   "metadata": {},
   "outputs": [],
   "source": [
    "import pandas as pd\n",
    "import numpy as np\n",
    "from pathlib import Path\n",
    "import datetime"
   ]
  },
  {
   "cell_type": "code",
   "execution_count": null,
   "id": "8eea31c7-95cc-4889-a55c-68fefc263454",
   "metadata": {},
   "outputs": [],
   "source": [
    "path = Path('/mnt/c/Users/dsege/TEMP/Alexia/NET-cre_vGat-flp/2021_12_09_C2/')"
   ]
  },
  {
   "cell_type": "code",
   "execution_count": null,
   "id": "7c71f5c3-61aa-49bc-bef9-9ade4f8c5b44",
   "metadata": {},
   "outputs": [],
   "source": [
    "test = pd.read_excel('/mnt/c/Users/dsege/TEMP/Alexia/NET-cre_vGat-flp/2021_12_09_C2/2021_12_09_C2.xlsx', sheet_name = None)"
   ]
  },
  {
   "cell_type": "code",
   "execution_count": null,
   "id": "79767687-0191-434d-a32f-f0674acdef4d",
   "metadata": {},
   "outputs": [],
   "source": [
    "input_df = test['Recordings and cell properties']"
   ]
  },
  {
   "cell_type": "code",
   "execution_count": null,
   "id": "9c97a2ee-1d3a-45a2-bd9c-6598e76b8008",
   "metadata": {},
   "outputs": [],
   "source": [
    "'stimulation_string', 'stimulation_frequency-Hz', 'stimulation_duration-ms', 'filepath_detected_events'"
   ]
  },
  {
   "cell_type": "code",
   "execution_count": null,
   "id": "76462201-358f-4023-8047-4b44c482539a",
   "metadata": {},
   "outputs": [],
   "source": [
    "input_df.columns = input_df.iloc[1]\n",
    "input_df = input_df.iloc[2:, 1:]\n",
    "input_df = input_df.loc[input_df['Type of protocol'].notnull()]\n",
    "\n",
    "columns = list(input_df.columns)\n",
    "relevant_data_columns = columns[columns.index('Pharmacology') +1 :]\n",
    "\n",
    "all_final_single_stimulation_dfs = []\n",
    "for row_index in range(input_df.shape[0]):\n",
    "    single_stimulation_df = input_df.iloc[[row_index]].copy()\n",
    "    if type(single_stimulation_df['Time since cutting'].iloc[0]) == datetime.time:\n",
    "        time_since_cutting = single_stimulation_df['Time since cutting'].iloc[0].hour * 60 + single_stimulation_df['Time since cutting'].iloc[0].minute\n",
    "    else:\n",
    "        time_since_cutting = 'not_available'\n",
    "\n",
    "    if single_stimulation_df['Vh (mV)'].iloc[0] == -70:\n",
    "        postsynaptic_current_type = 'excitatory'\n",
    "    elif single_stimulation_df['Vh (mV)'].iloc[0] == 0:\n",
    "        postsynaptic_current_type = 'inhibitory'\n",
    "    else:\n",
    "        raise ValueError(f'{single_stimulation_df[\"Vh (mV)\"].iloc[0]} is not a valid entry for holding potential!')\n",
    "\n",
    "    if pd.isna(single_stimulation_df['Pharmacology'].iloc[0]):\n",
    "        pharmacology = 'none'\n",
    "    else:\n",
    "        pharmacology = single_stimulation_df['Pharmacology'].iloc[0]\n",
    "\n",
    "    if single_stimulation_df['Type of protocol'].iloc[0] == 'Bsl':\n",
    "        stimulation_frequency = np.NaN\n",
    "        stimulation_duration = np.NaN\n",
    "        stimulation_string = 'baseline'\n",
    "        # filepath?\n",
    "    elif single_stimulation_df['Type of protocol'].iloc[0] == 'Bsl2':\n",
    "        stimulation_frequency = np.NaN\n",
    "        stimulation_duration = np.NaN\n",
    "        stimulation_string = 'control_baseline'\n",
    "        # filepath?\n",
    "    elif 'Hz' in single_stimulation_df['Type of protocol'].iloc[0]:\n",
    "        stimulation_frequency = single_stimulation_df['Type of protocol'].iloc[0].replace(' Hz', '')\n",
    "        stimulation_duration = int(single_stimulation_df['Timing of stim (s)'].iloc[0] * 1000)\n",
    "        stimulation_string = f'{stimulation_frequency}-Hz_for_{stimulation_duration}-ms'\n",
    "        # filepath\n",
    "\n",
    "\n",
    "    sorted_data = {'postsynaptic_current_type': [postsynaptic_current_type],\n",
    "                   'stimulation_string': [stimulation_string],\n",
    "                   'stimulation_frequency-Hz': [stimulation_frequency],\n",
    "                   'stimulation_duration-ms': [stimulation_duration],\n",
    "                   'pharmacology': [pharmacology],\n",
    "                   'time_since_cutting-M': [time_since_cutting]}\n",
    "\n",
    "    sorted_single_stimulation_df = pd.DataFrame(data = sorted_data)\n",
    "    remaining_data_df = single_stimulation_df[relevant_data_columns].copy()\n",
    "    remaining_data_df = remaining_data_df.reset_index(drop=True)\n",
    "    all_final_single_stimulation_dfs.append(pd.concat([sorted_single_stimulation_df, remaining_data_df], axis=1))\n",
    "recording_specific_dataframe = pd.concat(all_final_single_stimulation_dfs)\n",
    "final_df = pd.concat([general_metadata_df, recording_specific_dataframe], axis=1)\n",
    "final_df.insert(0, 'global_cell_id', [global_cell_id]*final_df.shape[0])"
   ]
  },
  {
   "cell_type": "code",
   "execution_count": null,
   "id": "a7823a81-c8e6-4606-afa5-bff3167a200e",
   "metadata": {},
   "outputs": [],
   "source": [
    "metadata_df = test['General information']\n",
    "general_metadata = {'date': path.name[:10],\n",
    "                    'session_cell_id': path.name[path.name.rfind('_') + 1:],\n",
    "                    'mouse_line': metadata_df['Animal line'][0],\n",
    "                    'brain_region': metadata_df['Region'][0],\n",
    "                    'cell_type': metadata_df['Type'][0],\n",
    "                    'sex': metadata_df['Sex'][0],\n",
    "                    'age': metadata_df['Age (days)'][0],\n",
    "                    'stimulation_in_percent': metadata_df['Stimulation (%)'][0],\n",
    "                    'internal_patch_solution': metadata_df['Internal used'][0]}\n",
    "general_metadata_df = pd.DataFrame(general_metadata, index=[0])"
   ]
  },
  {
   "cell_type": "code",
   "execution_count": null,
   "id": "23f1efef-5f65-4048-b5fc-4a7d0a767603",
   "metadata": {},
   "outputs": [],
   "source": [
    "general_metadata_df = pd.DataFrame([general_metadata]*3)\n",
    "general_metadata_df"
   ]
  },
  {
   "cell_type": "code",
   "execution_count": null,
   "id": "f040e7ac-c534-4073-8793-e1ec73a89216",
   "metadata": {},
   "outputs": [],
   "source": [
    "list(general_metadata_df['date'].values)"
   ]
  },
  {
   "cell_type": "code",
   "execution_count": null,
   "id": "5ff6dda7-56bf-44af-a492-3f3e8c6db0ea",
   "metadata": {},
   "outputs": [],
   "source": [
    "global_cell_id = '0000'"
   ]
  },
  {
   "cell_type": "code",
   "execution_count": null,
   "id": "babe90b9-8ee0-4365-9f17-0a79d4070867",
   "metadata": {},
   "outputs": [],
   "source": [
    "final_df = pd.concat([general_metadata_df, recording_specific_dataframe], axis=1)\n",
    "final_df.insert(0, 'global_cell_id', [global_cell_id]*final_df.shape[0])"
   ]
  },
  {
   "cell_type": "code",
   "execution_count": null,
   "id": "2db9fd66-aea3-4174-af6f-d56b010d2e41",
   "metadata": {},
   "outputs": [],
   "source": [
    "a = {'hund': 'dog', \n",
    "     'katze': 'cat'}\n",
    "\n",
    "for key, value in a.items():\n",
    "    print(key, value)"
   ]
  },
  {
   "cell_type": "code",
   "execution_count": null,
   "id": "07d8809a-0bc9-4f13-b588-42ae2e9653b2",
   "metadata": {},
   "outputs": [],
   "source": [
    "pd.concat([final_df, final_df])"
   ]
  },
  {
   "cell_type": "code",
   "execution_count": null,
   "id": "08756a59-99bc-40c0-8c18-5ffafd71a1e3",
   "metadata": {},
   "outputs": [],
   "source": []
  },
  {
   "cell_type": "code",
   "execution_count": null,
   "id": "d9146d43-48f4-44de-9f06-9ae043204120",
   "metadata": {},
   "outputs": [],
   "source": []
  },
  {
   "cell_type": "code",
   "execution_count": null,
   "id": "4bb79c50-e888-42a0-9a40-ac530674f5ac",
   "metadata": {},
   "outputs": [],
   "source": [
    "time_since_cutting = single_stimulation_df['Time since cutting'].iloc[0].hour * 60 + single_stimulation_df['Time since cutting'].iloc[0].minute"
   ]
  },
  {
   "cell_type": "code",
   "execution_count": null,
   "id": "77f58b21-216d-411a-9608-13c9fd396b7e",
   "metadata": {},
   "outputs": [],
   "source": [
    "\n",
    "remaining_data_df"
   ]
  },
  {
   "cell_type": "code",
   "execution_count": null,
   "id": "1d8f8dc4-a7de-4dfb-8afd-7e958ee6656c",
   "metadata": {},
   "outputs": [],
   "source": [
    "single_stimulation_df[data_columns]"
   ]
  },
  {
   "cell_type": "code",
   "execution_count": null,
   "id": "85cdd116-41f0-4ae4-b6ed-078d15cbcff7",
   "metadata": {},
   "outputs": [],
   "source": [
    "import datetime\n",
    "isinstance(time_since_cutting, datetime.time)"
   ]
  },
  {
   "cell_type": "code",
   "execution_count": null,
   "id": "daa3357b-5610-4d83-8421-9c4e202c01a0",
   "metadata": {},
   "outputs": [],
   "source": [
    "tmp_str = tmp_str.replace(' Hz', '')\n",
    "tmp_str"
   ]
  },
  {
   "cell_type": "code",
   "execution_count": null,
   "id": "d77422e4-9068-4b11-afd9-593ec54b1658",
   "metadata": {},
   "outputs": [],
   "source": [
    "'stimulation_string', 'stimulation_frequency-Hz', 'stimulation_duration-ms', 'filepath_detected_events'"
   ]
  },
  {
   "cell_type": "code",
   "execution_count": null,
   "id": "11e0560c-d768-4505-81de-02686804b52d",
   "metadata": {},
   "outputs": [],
   "source": [
    "database = api.database"
   ]
  },
  {
   "cell_type": "code",
   "execution_count": null,
   "id": "3caea1f1-1c87-4c81-930f-0721b7fef8f0",
   "metadata": {},
   "outputs": [],
   "source": [
    "database.__dict__.keys()"
   ]
  },
  {
   "cell_type": "code",
   "execution_count": null,
   "id": "8878f9ab-1b74-4aaf-961d-3d0c41b8a23c",
   "metadata": {},
   "outputs": [],
   "source": [
    "database.subdirectories"
   ]
  },
  {
   "cell_type": "code",
   "execution_count": null,
   "id": "1ae57e3f-60ef-44bd-8719-aa2c6722ff40",
   "metadata": {},
   "outputs": [],
   "source": []
  },
  {
   "cell_type": "code",
   "execution_count": null,
   "id": "6c95a853-a0bc-4e50-b07f-972b214424af",
   "metadata": {},
   "outputs": [],
   "source": [
    "df = api.database.cell_recordings_metadata"
   ]
  },
  {
   "cell_type": "code",
   "execution_count": null,
   "id": "f4bad9a3-9fe9-42af-88a2-c864779e7cb6",
   "metadata": {},
   "outputs": [],
   "source": [
    "df['sex'].unique().shape[0]"
   ]
  },
  {
   "cell_type": "code",
   "execution_count": null,
   "id": "9addf6b7-9404-4084-9d6d-d17b9676d6ff",
   "metadata": {},
   "outputs": [],
   "source": [
    "list(df.loc[df['sex'] == 'Female', 'global_cell_id'].unique())"
   ]
  },
  {
   "cell_type": "code",
   "execution_count": null,
   "id": "d3e068b9-baf2-4eef-8595-3af864799ace",
   "metadata": {},
   "outputs": [],
   "source": [
    "import os"
   ]
  },
  {
   "cell_type": "code",
   "execution_count": null,
   "id": "10de3ee8-428e-4c26-9773-0d5cca179878",
   "metadata": {},
   "outputs": [],
   "source": [
    "os.path.isdir('/mnt/c/Users/dsege/TEMP/Alexia/analysis_with_dcl_patch/')"
   ]
  },
  {
   "cell_type": "code",
   "execution_count": null,
   "id": "d6114c07-9295-480d-ba93-46dda9bb8197",
   "metadata": {},
   "outputs": [],
   "source": [
    "p = Path('/mnt/c/Users/dsege/TEMP/Alexia/analysis_with_dcl_patch/')"
   ]
  },
  {
   "cell_type": "code",
   "execution_count": null,
   "id": "edf56483-5888-4a3c-bc49-584db86c2cca",
   "metadata": {},
   "outputs": [],
   "source": [
    "p.joinpath('results/')"
   ]
  },
  {
   "cell_type": "code",
   "execution_count": null,
   "id": "ce93fcde-492a-4805-8fd2-5b7638320fb6",
   "metadata": {},
   "outputs": [],
   "source": []
  },
  {
   "cell_type": "code",
   "execution_count": null,
   "id": "342e3bf4-9214-40d0-8912-2714c0cc3d08",
   "metadata": {},
   "outputs": [],
   "source": [
    "import os\n",
    "from pathlib import Path\n",
    "from typing import Dict\n",
    "\n",
    "import pandas as pd\n",
    "import numpy as np"
   ]
  },
  {
   "cell_type": "code",
   "execution_count": null,
   "id": "5b539ed0-3878-4b24-a750-c59c108252d6",
   "metadata": {},
   "outputs": [],
   "source": []
  },
  {
   "cell_type": "code",
   "execution_count": null,
   "id": "5b845d9a-0d5d-4099-90f9-8f8feedad87b",
   "metadata": {},
   "outputs": [],
   "source": []
  },
  {
   "cell_type": "code",
   "execution_count": null,
   "id": "3cee7600-f5c4-4528-9242-f64bb514b635",
   "metadata": {},
   "outputs": [],
   "source": [
    "def get_general_metadata_df(path_to_recordings_dir: Path) -> pd.DataFrame:\n",
    "    metadata_df = pd.read_excel(path_to_recordings_dir.joinpath(f'{path_to_recordings_dir.name}.xlsx'),\n",
    "                                sheet_name = 'General information')\n",
    "    general_metadata = {'date': path_to_recordings_dir.name[:10],\n",
    "                        'session_cell_id': path_to_recordings_dir.name[path_to_recordings_dir.name.rfind('_') + 1:],\n",
    "                        'mouse_line': metadata_df['Animal line'][0],\n",
    "                        'brain_region': metadata_df['Region'][0],\n",
    "                        'cell_type': metadata_df['Type'][0],\n",
    "                        'sex': metadata_df['Sex'][0]}\n",
    "    return pd.DataFrame(general_metadata, index=[0])"
   ]
  },
  {
   "cell_type": "code",
   "execution_count": null,
   "id": "42e5b914-2afe-4e19-836e-e1690a278279",
   "metadata": {},
   "outputs": [],
   "source": [
    "def get_stimulation_paradigms_df(path_to_recordings_dir: Path) -> pd.DataFrame:\n",
    "    filepaths_stimulation_recordings = list()\n",
    "    for elem in path_to_recordings_dir.iterdir():\n",
    "        if 'datapoints' not in elem.name:\n",
    "            if elem.name.endswith('.csv'):\n",
    "                filepaths_stimulation_recordings.append(elem)\n",
    "    stimulation_paradigms = {'stimulation_string': list(),\n",
    "                             'stimulation_frequency-Hz': list(),\n",
    "                             'stimulation_duration-ms': list(), \n",
    "                             'filepath_detected_events': list()}\n",
    "    for filepath in filepaths_stimulation_recordings:\n",
    "        filename = filepath.name\n",
    "        filename = filename.replace('.csv', '')\n",
    "        yyyy_mm_dd_ = filename[:11]\n",
    "        filename = filename.replace(yyyy_mm_dd_, '')\n",
    "        cell_id = filename[:filename.index('_')]\n",
    "        filename = filename.replace(cell_id + '_', '')\n",
    "        if 'Hz' in filename:\n",
    "            stimulation_frequency = int(filename[:filename.index('Hz')])\n",
    "            stimulation_duration = filename[filename.index('Hz') + 2 :]\n",
    "            if 'ms' not in stimulation_duration:\n",
    "                stimulation_duration = int(stimulation_duration[:stimulation_duration.find('s')]) * 1000\n",
    "            else:\n",
    "                stimulation_duration = int(stimulation_duration[:stimulation_duration.find('ms')])\n",
    "            stimulation_paradigm = f'{stimulation_frequency}-Hz_for_{stimulation_duration}-ms'\n",
    "        elif 'Bsl' in filename:\n",
    "            stimulation_frequency = np.NaN\n",
    "            stimulation_duration = np.NaN\n",
    "            stimulation_paradigm = 'baseline'\n",
    "        else:\n",
    "            print(f'Warning: stimulation paradigm could not be identified for: {filepath.name}')\n",
    "            stimulation_frequency = np.NaN\n",
    "            stimulation_duration = np.NaN\n",
    "            stimulation_paradigm = 'unknown'\n",
    "        stimulation_paradigms['stimulation_string'].append(stimulation_paradigm)\n",
    "        stimulation_paradigms['stimulation_frequency-Hz'].append(stimulation_frequency)\n",
    "        stimulation_paradigms['stimulation_duration-ms'].append(stimulation_duration)\n",
    "        stimulation_paradigms['filepath_detected_events'].append(filepath)\n",
    "    return pd.DataFrame(stimulation_paradigms)"
   ]
  },
  {
   "cell_type": "code",
   "execution_count": null,
   "id": "9617fd2d-2b91-4660-a261-a767c650fde3",
   "metadata": {},
   "outputs": [],
   "source": [
    "global_cell_id = 1"
   ]
  },
  {
   "cell_type": "code",
   "execution_count": null,
   "id": "77534877-335d-49ed-a263-a8051593df18",
   "metadata": {},
   "outputs": [],
   "source": [
    "str(global_cell_id).zfill(4)"
   ]
  },
  {
   "cell_type": "code",
   "execution_count": null,
   "id": "670b919e-79f9-490a-8a50-55deaaa86a78",
   "metadata": {},
   "outputs": [],
   "source": [
    "def get\n",
    "    general_metadata = get_general_metadata_df(cell_recording_dir)\n",
    "    stimulation_paradigms = get_stimulation_paradigms_df(cell_recording_dir)\n",
    "    stimulations_adjusted_general_metadata = pd.concat([general_metadata]*stimulation_paradigms.shape[0], ignore_index=True)\n",
    "    recordings_overview = pd.concat([stimulations_adjusted_general_metadata, stimulation_paradigms], axis=1)\n",
    "    recordings_overview['global_cell_id'] = str(global_cell_id).zfill(4)\n"
   ]
  },
  {
   "cell_type": "code",
   "execution_count": null,
   "id": "d52114cf-3b4e-41b5-8967-57f23afc5aec",
   "metadata": {},
   "outputs": [],
   "source": [
    "columns = ['global_cell_id', 'date', 'session_cell_id', 'mouse_line', 'sex', 'brain_region', 'cell_type', \n",
    "           'stimulation_string', 'stimulation_frequency-Hz', 'stimulation_duration-ms', 'filepath_detected_events']"
   ]
  },
  {
   "cell_type": "code",
   "execution_count": null,
   "id": "6cf7ef19-757d-4a5a-878a-0b5a37dcbd10",
   "metadata": {},
   "outputs": [],
   "source": [
    "recordings_overview[columns]"
   ]
  },
  {
   "cell_type": "code",
   "execution_count": null,
   "id": "dab068ff-3bb9-48d6-9efd-0305ac68dabc",
   "metadata": {},
   "outputs": [],
   "source": [
    "recordings_overview"
   ]
  },
  {
   "cell_type": "code",
   "execution_count": null,
   "id": "c74a7c9e-3a9b-4c8a-aeb7-0617fac1e39c",
   "metadata": {},
   "outputs": [],
   "source": [
    "stimulation_paradigms"
   ]
  },
  {
   "cell_type": "code",
   "execution_count": null,
   "id": "9b5b8bd6-8d48-4975-b0d5-ffa1c251c8c6",
   "metadata": {},
   "outputs": [],
   "source": [
    "df_cell = pd.DataFrame(recording_info)"
   ]
  },
  {
   "cell_type": "code",
   "execution_count": null,
   "id": "40ac4cc6-1d3a-42fe-a5a9-14a6bd8bd022",
   "metadata": {},
   "outputs": [],
   "source": [
    "df_cell"
   ]
  },
  {
   "cell_type": "code",
   "execution_count": null,
   "id": "696e8894-9ed0-44cc-b386-4a1094eafad7",
   "metadata": {},
   "outputs": [],
   "source": [
    "cell_recording_dir = Path('/mnt/c/Users/dsege/TEMP/Alexia/NET-cre_vGat-flp/2021_12_09_C2/')\n",
    "\n",
    "\n",
    "\n",
    "metadata_df = pd.read_excel(cell_recording_dir.joinpath(f'{cell_recording_dir.name}.xlsx'),\n",
    "                            sheet_name = 'General information')\n",
    "\n",
    "mix_and_matchable_categories = dict()\n",
    "\n",
    "general_metadata = {'mouse_line': metadata_df['Animal line'][0],\n",
    "                    'brain_region': metadata_df['Region'][0],\n",
    "                    'cell_type': metadata_df['Type'][0],\n",
    "                    'sex': metadata_df['Sex'][0]}\n",
    "\n",
    "filepaths_stimulation_recordings = list()\n",
    "for elem in cell_recording_dir.iterdir():\n",
    "    if 'datapoints' not in elem.name:\n",
    "        if elem.name.endswith('.csv'):\n",
    "            filepaths_stimulation_recordings.append(elem)\n",
    "\n",
    "\n",
    "stimulation_paradigms = dict()\n",
    "for filepath in filepaths_stimulation_recordings:\n",
    "    filename = filepath.name\n",
    "    filename = filename.replace('.csv', '')\n",
    "    yyyy_mm_dd_ = filename[:11]\n",
    "    filename = filename.replace(yyyy_mm_dd_, '')\n",
    "    cell_id = filename[:filename.index('_')]\n",
    "    filename = filename.replace(cell_id + '_', '')\n",
    "    if 'Hz' in filename:\n",
    "        stimulation_frequency = filename[:filename.index('Hz') + 2]\n",
    "        stimulation_duration = filename[filename.index('Hz') + 2 :]\n",
    "        stimulation_paradigm = f'{stimulation_frequency}_for_{stimulation_duration}'\n",
    "    elif 'Bsl' in filename:\n",
    "        stimulation_paradigm = 'baseline'\n",
    "    else:\n",
    "        print(f'Warning: stimulation paradigm could not be identified for: {filepath.name}')\n",
    "        stimulation_paradigm = 'unknown'\n",
    "    stimulation_paradigms[stimulation_paradigm] = filepath"
   ]
  },
  {
   "cell_type": "code",
   "execution_count": null,
   "id": "70c86837-1b7a-49af-adbc-8ba37f19ab9e",
   "metadata": {},
   "outputs": [],
   "source": []
  },
  {
   "cell_type": "code",
   "execution_count": null,
   "id": "b5d0e54b-5516-4425-8929-ef28a8b9ad8d",
   "metadata": {},
   "outputs": [],
   "source": [
    "filepaths_stimulation_recordings"
   ]
  },
  {
   "cell_type": "code",
   "execution_count": null,
   "id": "a69de78d-0cc6-4282-a9f5-f13b83827d18",
   "metadata": {},
   "outputs": [],
   "source": [
    "\n",
    "    \n",
    "    "
   ]
  },
  {
   "cell_type": "code",
   "execution_count": null,
   "id": "b0b6bd54-008a-49f6-acb2-1208339f079c",
   "metadata": {},
   "outputs": [],
   "source": [
    "stimulation_paradigms"
   ]
  },
  {
   "cell_type": "code",
   "execution_count": null,
   "id": "c265412d-4744-45c2-9cd7-89e70d80fe93",
   "metadata": {},
   "outputs": [],
   "source": [
    "?filename.replace"
   ]
  },
  {
   "cell_type": "code",
   "execution_count": null,
   "id": "2365adab-9beb-4e21-8f12-d12fcb5866cc",
   "metadata": {},
   "outputs": [],
   "source": [
    "metadata_df['Animal line'][0]"
   ]
  },
  {
   "cell_type": "code",
   "execution_count": null,
   "id": "123ec728-a4a9-452f-a65c-7cc6ea5b548c",
   "metadata": {},
   "outputs": [],
   "source": [
    "metadata_df"
   ]
  },
  {
   "cell_type": "code",
   "execution_count": null,
   "id": "036b7f7a-5efd-4200-a798-9a7156c36d26",
   "metadata": {},
   "outputs": [],
   "source": []
  },
  {
   "cell_type": "code",
   "execution_count": null,
   "id": "7a7d3949-48d2-474e-9bcf-6fb0852e08fe",
   "metadata": {},
   "outputs": [],
   "source": []
  },
  {
   "cell_type": "code",
   "execution_count": null,
   "id": "e283c39e-069d-4ec7-bbee-0a25e10c212f",
   "metadata": {},
   "outputs": [],
   "source": [
    "df = pd.read_excel(cell_recording_dir.as_posix() + '/' + cell_recording_dir.name + '.xlsx', sheet_name = 'General information')\n",
    "df"
   ]
  },
  {
   "cell_type": "code",
   "execution_count": null,
   "id": "e22426b4-8abc-4541-b701-1b7422f04af1",
   "metadata": {},
   "outputs": [],
   "source": [
    "df = pd.read_excel(cell_recording_dir.as_posix() + '/' + cell_recording_dir.name + '.xlsx', sheet_name = 'Recordings and cell properties', skiprows=2)\n",
    "df.drop(['Unnamed: 0'], axis=1, inplace=True)\n",
    "df.columns"
   ]
  },
  {
   "cell_type": "code",
   "execution_count": null,
   "id": "d87c447f-a489-496e-9771-b8b98f48c4f4",
   "metadata": {},
   "outputs": [],
   "source": [
    "dfs['General information']"
   ]
  },
  {
   "cell_type": "code",
   "execution_count": null,
   "id": "30a26853-f81e-4850-bc20-5d9c06ffd72a",
   "metadata": {},
   "outputs": [],
   "source": [
    "dfs['Recordings and cell properties']"
   ]
  },
  {
   "cell_type": "code",
   "execution_count": null,
   "id": "81461a7c-a3f0-43e6-acf4-8f8a763e8d43",
   "metadata": {},
   "outputs": [],
   "source": [
    "for elem in cell_recording_dir.iterdir():\n",
    "    print(elem)"
   ]
  },
  {
   "cell_type": "code",
   "execution_count": null,
   "id": "df15321a-60ec-4446-a8e0-7f0f962691c6",
   "metadata": {},
   "outputs": [],
   "source": [
    "pd.read_csv(filepath)"
   ]
  },
  {
   "cell_type": "code",
   "execution_count": null,
   "id": "815ad5fb-c30f-48a2-b87f-7f2b3b577f3a",
   "metadata": {},
   "outputs": [],
   "source": [
    "path = Path('/mnt/c/Users/dsege/TEMP/Alexia/')"
   ]
  },
  {
   "cell_type": "code",
   "execution_count": null,
   "id": "eb32b06f-7b8d-4e08-83e6-7714cb0e41c8",
   "metadata": {},
   "outputs": [],
   "source": [
    "for elem in path.iterdir():\n",
    "    print(elem)"
   ]
  },
  {
   "cell_type": "code",
   "execution_count": null,
   "id": "44903f33-b3ca-4e16-ba42-046dd4fccff4",
   "metadata": {},
   "outputs": [],
   "source": [
    "for elem in path.glob(pattern='*'):\n",
    "    print(elem)"
   ]
  },
  {
   "cell_type": "code",
   "execution_count": null,
   "id": "4c702871-62ad-49d1-a570-79d895aef92f",
   "metadata": {},
   "outputs": [],
   "source": [
    "path.parts"
   ]
  },
  {
   "cell_type": "code",
   "execution_count": null,
   "id": "c0b0794d-2163-4638-b713-f8a87477ec9c",
   "metadata": {},
   "outputs": [],
   "source": [
    "database = Database(path)"
   ]
  },
  {
   "cell_type": "code",
   "execution_count": null,
   "id": "3592b935-9bbe-4fa5-a804-3499f4df1a94",
   "metadata": {},
   "outputs": [],
   "source": []
  },
  {
   "cell_type": "code",
   "execution_count": null,
   "id": "eb571cc5-7bba-4b72-9c39-08c44b01f7a3",
   "metadata": {},
   "outputs": [],
   "source": [
    "import os\n",
    "from pathlib import Path\n",
    "from abc import ABC, abstractmethod\n",
    "\n",
    "class Feature(ABC):\n",
    "    \n",
    "    @abstractmethod\n",
    "    def add_to_database(self):\n",
    "        pass\n",
    "    \n",
    "\n",
    "class CellRecording(Feature):\n",
    "    \n",
    "    def add_to_database(self):\n",
    "        pass\n",
    "    \n",
    "    \n",
    "class Subdirectories:\n",
    "    \n",
    "    def __init__(self, root_dir: Path):\n",
    "        self.root_dir = root_dir\n",
    "        self.create_missing_subdirectories()\n",
    "        self.assign_subdirectories_as_attributes()\n",
    "        \n",
    "    def create_missing_subdirectories(self):\n",
    "        # check for each element in a list of subdirs, whether they exist --> create if not\n",
    "        pass\n",
    "    \n",
    "    def assign_subdirectories_as_attributes(self):\n",
    "        # use list of subdirs and set the path to each as attribute\n",
    "        pass   \n",
    "\n",
    "\n",
    "class Database:\n",
    "    \n",
    "    \"\"\"\n",
    "    The database is supposed to hold all information about all recorded cells that were added to it.\n",
    "    These information exclude the raw data (only contain filepaths to raw data),\n",
    "    but include general metadata like celltype, stimulus type, brain region, pharamacological treatment.\n",
    "    Potentially, some intermediate data could be added (like how the cell reacted upon stimulation, see dashboard).\n",
    "    Overall, the database should allow the selection of cells based on mix-and-match criteria \n",
    "    for further (statistical) analyses and plotting.\n",
    "    \"\"\"\n",
    "    \n",
    "    def __init__(self, root_dir: Path):\n",
    "        self.root_dir = root_dir\n",
    "        self.subdirectories = Subdirectories(root_dir = root_dir)\n",
    "\n",
    "    def load_database_from_disk(self):\n",
    "        # Option to load previously created and saved database\n",
    "        pass\n",
    "    \n",
    "    def save_database_to_disk(self):\n",
    "        # Save all information to disk\n",
    "        pass\n",
    "    \n",
    "    def add_new_feature(self, new_feature: Feature):\n",
    "        # By providing the Path to a new directory, the user has the option to add new recordings to the database\n",
    "        # should trigger the database to update itself (e.g. categories dictionary)\n",
    "        pass\n",
    "\n",
    "\n",
    "    \n",
    "\n",
    "        \n"
   ]
  },
  {
   "cell_type": "code",
   "execution_count": null,
   "id": "11254dbd-659f-4f6a-9fef-c27fa8e86b8d",
   "metadata": {},
   "outputs": [],
   "source": []
  }
 ],
 "metadata": {
  "kernelspec": {
   "display_name": "Python 3 (ipykernel)",
   "language": "python",
   "name": "python3"
  },
  "language_info": {
   "codemirror_mode": {
    "name": "ipython",
    "version": 3
   },
   "file_extension": ".py",
   "mimetype": "text/x-python",
   "name": "python",
   "nbconvert_exporter": "python",
   "pygments_lexer": "ipython3",
   "version": "3.7.12"
  }
 },
 "nbformat": 4,
 "nbformat_minor": 5
}
