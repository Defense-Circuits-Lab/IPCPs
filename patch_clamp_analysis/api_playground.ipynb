{
 "cells": [
  {
   "cell_type": "code",
   "execution_count": null,
   "id": "20edabb6-5273-49aa-a9d5-4eaba676c761",
   "metadata": {},
   "outputs": [],
   "source": [
    "from pathlib import Path\n",
    "from dclpatch.main import PatchProject"
   ]
  },
  {
   "cell_type": "code",
   "execution_count": null,
   "id": "81a4e996-283c-4b23-bef4-8c75001c7c5b",
   "metadata": {},
   "outputs": [],
   "source": [
    "root_dir_path = Path('/mnt/c/Users/dsege/TEMP/Alexia/analysis_with_dcl_patch/')"
   ]
  },
  {
   "cell_type": "code",
   "execution_count": null,
   "id": "345be5ea-9140-46c9-8e57-5d1417314aa2",
   "metadata": {},
   "outputs": [],
   "source": [
    "api = PatchProject(root_dir = root_dir_path)"
   ]
  },
  {
   "cell_type": "code",
   "execution_count": null,
   "id": "f5ea2154-89ab-403f-993e-368e56855972",
   "metadata": {},
   "outputs": [],
   "source": [
    "api.load_database()"
   ]
  },
  {
   "cell_type": "code",
   "execution_count": null,
   "id": "770c985d-0176-432d-83a4-84e9352ae2e5",
   "metadata": {},
   "outputs": [],
   "source": [
    "path_to_cell_recordings_dir = Path('/mnt/c/Users/dsege/TEMP/Alexia/NET-cre_vGat-flp/2021_12_09_C2/')"
   ]
  },
  {
   "cell_type": "code",
   "execution_count": null,
   "id": "bd82c084-dc29-421c-9541-e59b79e4cc69",
   "metadata": {},
   "outputs": [],
   "source": [
    "api.add_cell_to_database(path_to_cell_recordings_dir = path_to_cell_recordings_dir, overwrite=True)"
   ]
  },
  {
   "cell_type": "code",
   "execution_count": null,
   "id": "7621efd4-b0af-432d-9fe1-6a26f0dd4e37",
   "metadata": {},
   "outputs": [],
   "source": [
    "path_to_all_cell_recordings = Path('/mnt/c/Users/dsege/TEMP/Alexia/NET-cre_vGat-flp/')\n",
    "api.add_all_cells_to_database(path_with_cell_recordings_as_subdirs = path_to_all_cell_recordings, overwrite=True)"
   ]
  },
  {
   "cell_type": "code",
   "execution_count": null,
   "id": "cde392c1-24bd-4954-8930-5caa8336c1d6",
   "metadata": {},
   "outputs": [],
   "source": [
    "api.database.cell_recordings_metadata"
   ]
  },
  {
   "cell_type": "code",
   "execution_count": null,
   "id": "3399b404-292c-4a61-b62e-8546242cfbe8",
   "metadata": {},
   "outputs": [],
   "source": [
    "api.compare_on_single_cell_level(global_cell_id = '0000')"
   ]
  },
  {
   "cell_type": "code",
   "execution_count": null,
   "id": "d26905a6-516f-4515-8991-9d670edeaf9d",
   "metadata": {},
   "outputs": [],
   "source": [
    "api.compare_within_group(group_column = 'brain_region', group_id = 'vlPAG')"
   ]
  },
  {
   "cell_type": "code",
   "execution_count": null,
   "id": "fc3127ca-33f6-453c-b646-aa5e42cbd9cb",
   "metadata": {},
   "outputs": [],
   "source": [
    "api.save_database()"
   ]
  },
  {
   "cell_type": "markdown",
   "id": "baa89fcb-1398-42e1-b6c1-20dc44ed21e8",
   "metadata": {
    "tags": []
   },
   "source": [
    "# Code development"
   ]
  },
  {
   "cell_type": "code",
   "execution_count": null,
   "id": "11e0560c-d768-4505-81de-02686804b52d",
   "metadata": {},
   "outputs": [],
   "source": [
    "database = api.database"
   ]
  },
  {
   "cell_type": "code",
   "execution_count": null,
   "id": "3caea1f1-1c87-4c81-930f-0721b7fef8f0",
   "metadata": {},
   "outputs": [],
   "source": [
    "database.__dict__.keys()"
   ]
  },
  {
   "cell_type": "code",
   "execution_count": null,
   "id": "8878f9ab-1b74-4aaf-961d-3d0c41b8a23c",
   "metadata": {},
   "outputs": [],
   "source": [
    "database.subdirectories"
   ]
  },
  {
   "cell_type": "code",
   "execution_count": null,
   "id": "1ae57e3f-60ef-44bd-8719-aa2c6722ff40",
   "metadata": {},
   "outputs": [],
   "source": []
  },
  {
   "cell_type": "code",
   "execution_count": null,
   "id": "6c95a853-a0bc-4e50-b07f-972b214424af",
   "metadata": {},
   "outputs": [],
   "source": [
    "df = api.database.cell_recordings_metadata"
   ]
  },
  {
   "cell_type": "code",
   "execution_count": null,
   "id": "f4bad9a3-9fe9-42af-88a2-c864779e7cb6",
   "metadata": {},
   "outputs": [],
   "source": [
    "df['sex'].unique().shape[0]"
   ]
  },
  {
   "cell_type": "code",
   "execution_count": null,
   "id": "9addf6b7-9404-4084-9d6d-d17b9676d6ff",
   "metadata": {},
   "outputs": [],
   "source": [
    "list(df.loc[df['sex'] == 'Female', 'global_cell_id'].unique())"
   ]
  },
  {
   "cell_type": "code",
   "execution_count": null,
   "id": "d3e068b9-baf2-4eef-8595-3af864799ace",
   "metadata": {},
   "outputs": [],
   "source": [
    "import os"
   ]
  },
  {
   "cell_type": "code",
   "execution_count": null,
   "id": "10de3ee8-428e-4c26-9773-0d5cca179878",
   "metadata": {},
   "outputs": [],
   "source": [
    "os.path.isdir('/mnt/c/Users/dsege/TEMP/Alexia/analysis_with_dcl_patch/')"
   ]
  },
  {
   "cell_type": "code",
   "execution_count": null,
   "id": "d6114c07-9295-480d-ba93-46dda9bb8197",
   "metadata": {},
   "outputs": [],
   "source": [
    "p = Path('/mnt/c/Users/dsege/TEMP/Alexia/analysis_with_dcl_patch/')"
   ]
  },
  {
   "cell_type": "code",
   "execution_count": null,
   "id": "edf56483-5888-4a3c-bc49-584db86c2cca",
   "metadata": {},
   "outputs": [],
   "source": [
    "p.joinpath('results/')"
   ]
  },
  {
   "cell_type": "code",
   "execution_count": null,
   "id": "ce93fcde-492a-4805-8fd2-5b7638320fb6",
   "metadata": {},
   "outputs": [],
   "source": []
  },
  {
   "cell_type": "code",
   "execution_count": null,
   "id": "342e3bf4-9214-40d0-8912-2714c0cc3d08",
   "metadata": {},
   "outputs": [],
   "source": [
    "import os\n",
    "from pathlib import Path\n",
    "from typing import Dict\n",
    "\n",
    "import pandas as pd\n",
    "import numpy as np"
   ]
  },
  {
   "cell_type": "code",
   "execution_count": null,
   "id": "5b539ed0-3878-4b24-a750-c59c108252d6",
   "metadata": {},
   "outputs": [],
   "source": []
  },
  {
   "cell_type": "code",
   "execution_count": null,
   "id": "5b845d9a-0d5d-4099-90f9-8f8feedad87b",
   "metadata": {},
   "outputs": [],
   "source": []
  },
  {
   "cell_type": "code",
   "execution_count": null,
   "id": "3cee7600-f5c4-4528-9242-f64bb514b635",
   "metadata": {},
   "outputs": [],
   "source": [
    "def get_general_metadata_df(path_to_recordings_dir: Path) -> pd.DataFrame:\n",
    "    metadata_df = pd.read_excel(path_to_recordings_dir.joinpath(f'{path_to_recordings_dir.name}.xlsx'),\n",
    "                                sheet_name = 'General information')\n",
    "    general_metadata = {'date': path_to_recordings_dir.name[:10],\n",
    "                        'session_cell_id': path_to_recordings_dir.name[path_to_recordings_dir.name.rfind('_') + 1:],\n",
    "                        'mouse_line': metadata_df['Animal line'][0],\n",
    "                        'brain_region': metadata_df['Region'][0],\n",
    "                        'cell_type': metadata_df['Type'][0],\n",
    "                        'sex': metadata_df['Sex'][0]}\n",
    "    return pd.DataFrame(general_metadata, index=[0])"
   ]
  },
  {
   "cell_type": "code",
   "execution_count": null,
   "id": "42e5b914-2afe-4e19-836e-e1690a278279",
   "metadata": {},
   "outputs": [],
   "source": [
    "def get_stimulation_paradigms_df(path_to_recordings_dir: Path) -> pd.DataFrame:\n",
    "    filepaths_stimulation_recordings = list()\n",
    "    for elem in path_to_recordings_dir.iterdir():\n",
    "        if 'datapoints' not in elem.name:\n",
    "            if elem.name.endswith('.csv'):\n",
    "                filepaths_stimulation_recordings.append(elem)\n",
    "    stimulation_paradigms = {'stimulation_string': list(),\n",
    "                             'stimulation_frequency-Hz': list(),\n",
    "                             'stimulation_duration-ms': list(), \n",
    "                             'filepath_detected_events': list()}\n",
    "    for filepath in filepaths_stimulation_recordings:\n",
    "        filename = filepath.name\n",
    "        filename = filename.replace('.csv', '')\n",
    "        yyyy_mm_dd_ = filename[:11]\n",
    "        filename = filename.replace(yyyy_mm_dd_, '')\n",
    "        cell_id = filename[:filename.index('_')]\n",
    "        filename = filename.replace(cell_id + '_', '')\n",
    "        if 'Hz' in filename:\n",
    "            stimulation_frequency = int(filename[:filename.index('Hz')])\n",
    "            stimulation_duration = filename[filename.index('Hz') + 2 :]\n",
    "            if 'ms' not in stimulation_duration:\n",
    "                stimulation_duration = int(stimulation_duration[:stimulation_duration.find('s')]) * 1000\n",
    "            else:\n",
    "                stimulation_duration = int(stimulation_duration[:stimulation_duration.find('ms')])\n",
    "            stimulation_paradigm = f'{stimulation_frequency}-Hz_for_{stimulation_duration}-ms'\n",
    "        elif 'Bsl' in filename:\n",
    "            stimulation_frequency = np.NaN\n",
    "            stimulation_duration = np.NaN\n",
    "            stimulation_paradigm = 'baseline'\n",
    "        else:\n",
    "            print(f'Warning: stimulation paradigm could not be identified for: {filepath.name}')\n",
    "            stimulation_frequency = np.NaN\n",
    "            stimulation_duration = np.NaN\n",
    "            stimulation_paradigm = 'unknown'\n",
    "        stimulation_paradigms['stimulation_string'].append(stimulation_paradigm)\n",
    "        stimulation_paradigms['stimulation_frequency-Hz'].append(stimulation_frequency)\n",
    "        stimulation_paradigms['stimulation_duration-ms'].append(stimulation_duration)\n",
    "        stimulation_paradigms['filepath_detected_events'].append(filepath)\n",
    "    return pd.DataFrame(stimulation_paradigms)"
   ]
  },
  {
   "cell_type": "code",
   "execution_count": null,
   "id": "9617fd2d-2b91-4660-a261-a767c650fde3",
   "metadata": {},
   "outputs": [],
   "source": [
    "global_cell_id = 1"
   ]
  },
  {
   "cell_type": "code",
   "execution_count": null,
   "id": "77534877-335d-49ed-a263-a8051593df18",
   "metadata": {},
   "outputs": [],
   "source": [
    "str(global_cell_id).zfill(4)"
   ]
  },
  {
   "cell_type": "code",
   "execution_count": null,
   "id": "670b919e-79f9-490a-8a50-55deaaa86a78",
   "metadata": {},
   "outputs": [],
   "source": [
    "def get\n",
    "    general_metadata = get_general_metadata_df(cell_recording_dir)\n",
    "    stimulation_paradigms = get_stimulation_paradigms_df(cell_recording_dir)\n",
    "    stimulations_adjusted_general_metadata = pd.concat([general_metadata]*stimulation_paradigms.shape[0], ignore_index=True)\n",
    "    recordings_overview = pd.concat([stimulations_adjusted_general_metadata, stimulation_paradigms], axis=1)\n",
    "    recordings_overview['global_cell_id'] = str(global_cell_id).zfill(4)\n"
   ]
  },
  {
   "cell_type": "code",
   "execution_count": null,
   "id": "d52114cf-3b4e-41b5-8967-57f23afc5aec",
   "metadata": {},
   "outputs": [],
   "source": [
    "columns = ['global_cell_id', 'date', 'session_cell_id', 'mouse_line', 'sex', 'brain_region', 'cell_type', \n",
    "           'stimulation_string', 'stimulation_frequency-Hz', 'stimulation_duration-ms', 'filepath_detected_events']"
   ]
  },
  {
   "cell_type": "code",
   "execution_count": null,
   "id": "6cf7ef19-757d-4a5a-878a-0b5a37dcbd10",
   "metadata": {},
   "outputs": [],
   "source": [
    "recordings_overview[columns]"
   ]
  },
  {
   "cell_type": "code",
   "execution_count": null,
   "id": "dab068ff-3bb9-48d6-9efd-0305ac68dabc",
   "metadata": {},
   "outputs": [],
   "source": [
    "recordings_overview"
   ]
  },
  {
   "cell_type": "code",
   "execution_count": null,
   "id": "c74a7c9e-3a9b-4c8a-aeb7-0617fac1e39c",
   "metadata": {},
   "outputs": [],
   "source": [
    "stimulation_paradigms"
   ]
  },
  {
   "cell_type": "code",
   "execution_count": null,
   "id": "9b5b8bd6-8d48-4975-b0d5-ffa1c251c8c6",
   "metadata": {},
   "outputs": [],
   "source": [
    "df_cell = pd.DataFrame(recording_info)"
   ]
  },
  {
   "cell_type": "code",
   "execution_count": null,
   "id": "40ac4cc6-1d3a-42fe-a5a9-14a6bd8bd022",
   "metadata": {},
   "outputs": [],
   "source": [
    "df_cell"
   ]
  },
  {
   "cell_type": "code",
   "execution_count": null,
   "id": "696e8894-9ed0-44cc-b386-4a1094eafad7",
   "metadata": {},
   "outputs": [],
   "source": [
    "cell_recording_dir = Path('/mnt/c/Users/dsege/TEMP/Alexia/NET-cre_vGat-flp/2021_12_09_C2/')\n",
    "\n",
    "\n",
    "\n",
    "metadata_df = pd.read_excel(cell_recording_dir.joinpath(f'{cell_recording_dir.name}.xlsx'),\n",
    "                            sheet_name = 'General information')\n",
    "\n",
    "mix_and_matchable_categories = dict()\n",
    "\n",
    "general_metadata = {'mouse_line': metadata_df['Animal line'][0],\n",
    "                    'brain_region': metadata_df['Region'][0],\n",
    "                    'cell_type': metadata_df['Type'][0],\n",
    "                    'sex': metadata_df['Sex'][0]}\n",
    "\n",
    "filepaths_stimulation_recordings = list()\n",
    "for elem in cell_recording_dir.iterdir():\n",
    "    if 'datapoints' not in elem.name:\n",
    "        if elem.name.endswith('.csv'):\n",
    "            filepaths_stimulation_recordings.append(elem)\n",
    "\n",
    "\n",
    "stimulation_paradigms = dict()\n",
    "for filepath in filepaths_stimulation_recordings:\n",
    "    filename = filepath.name\n",
    "    filename = filename.replace('.csv', '')\n",
    "    yyyy_mm_dd_ = filename[:11]\n",
    "    filename = filename.replace(yyyy_mm_dd_, '')\n",
    "    cell_id = filename[:filename.index('_')]\n",
    "    filename = filename.replace(cell_id + '_', '')\n",
    "    if 'Hz' in filename:\n",
    "        stimulation_frequency = filename[:filename.index('Hz') + 2]\n",
    "        stimulation_duration = filename[filename.index('Hz') + 2 :]\n",
    "        stimulation_paradigm = f'{stimulation_frequency}_for_{stimulation_duration}'\n",
    "    elif 'Bsl' in filename:\n",
    "        stimulation_paradigm = 'baseline'\n",
    "    else:\n",
    "        print(f'Warning: stimulation paradigm could not be identified for: {filepath.name}')\n",
    "        stimulation_paradigm = 'unknown'\n",
    "    stimulation_paradigms[stimulation_paradigm] = filepath"
   ]
  },
  {
   "cell_type": "code",
   "execution_count": null,
   "id": "70c86837-1b7a-49af-adbc-8ba37f19ab9e",
   "metadata": {},
   "outputs": [],
   "source": []
  },
  {
   "cell_type": "code",
   "execution_count": null,
   "id": "b5d0e54b-5516-4425-8929-ef28a8b9ad8d",
   "metadata": {},
   "outputs": [],
   "source": [
    "filepaths_stimulation_recordings"
   ]
  },
  {
   "cell_type": "code",
   "execution_count": null,
   "id": "a69de78d-0cc6-4282-a9f5-f13b83827d18",
   "metadata": {},
   "outputs": [],
   "source": [
    "\n",
    "    \n",
    "    "
   ]
  },
  {
   "cell_type": "code",
   "execution_count": null,
   "id": "b0b6bd54-008a-49f6-acb2-1208339f079c",
   "metadata": {},
   "outputs": [],
   "source": [
    "stimulation_paradigms"
   ]
  },
  {
   "cell_type": "code",
   "execution_count": null,
   "id": "c265412d-4744-45c2-9cd7-89e70d80fe93",
   "metadata": {},
   "outputs": [],
   "source": [
    "?filename.replace"
   ]
  },
  {
   "cell_type": "code",
   "execution_count": null,
   "id": "2365adab-9beb-4e21-8f12-d12fcb5866cc",
   "metadata": {},
   "outputs": [],
   "source": [
    "metadata_df['Animal line'][0]"
   ]
  },
  {
   "cell_type": "code",
   "execution_count": null,
   "id": "123ec728-a4a9-452f-a65c-7cc6ea5b548c",
   "metadata": {},
   "outputs": [],
   "source": [
    "metadata_df"
   ]
  },
  {
   "cell_type": "code",
   "execution_count": null,
   "id": "036b7f7a-5efd-4200-a798-9a7156c36d26",
   "metadata": {},
   "outputs": [],
   "source": []
  },
  {
   "cell_type": "code",
   "execution_count": null,
   "id": "7a7d3949-48d2-474e-9bcf-6fb0852e08fe",
   "metadata": {},
   "outputs": [],
   "source": []
  },
  {
   "cell_type": "code",
   "execution_count": null,
   "id": "e283c39e-069d-4ec7-bbee-0a25e10c212f",
   "metadata": {},
   "outputs": [],
   "source": [
    "df = pd.read_excel(cell_recording_dir.as_posix() + '/' + cell_recording_dir.name + '.xlsx', sheet_name = 'General information')\n",
    "df"
   ]
  },
  {
   "cell_type": "code",
   "execution_count": null,
   "id": "e22426b4-8abc-4541-b701-1b7422f04af1",
   "metadata": {},
   "outputs": [],
   "source": [
    "df = pd.read_excel(cell_recording_dir.as_posix() + '/' + cell_recording_dir.name + '.xlsx', sheet_name = 'Recordings and cell properties', skiprows=2)\n",
    "df.drop(['Unnamed: 0'], axis=1, inplace=True)\n",
    "df.columns"
   ]
  },
  {
   "cell_type": "code",
   "execution_count": null,
   "id": "d87c447f-a489-496e-9771-b8b98f48c4f4",
   "metadata": {},
   "outputs": [],
   "source": [
    "dfs['General information']"
   ]
  },
  {
   "cell_type": "code",
   "execution_count": null,
   "id": "30a26853-f81e-4850-bc20-5d9c06ffd72a",
   "metadata": {},
   "outputs": [],
   "source": [
    "dfs['Recordings and cell properties']"
   ]
  },
  {
   "cell_type": "code",
   "execution_count": null,
   "id": "81461a7c-a3f0-43e6-acf4-8f8a763e8d43",
   "metadata": {},
   "outputs": [],
   "source": [
    "for elem in cell_recording_dir.iterdir():\n",
    "    print(elem)"
   ]
  },
  {
   "cell_type": "code",
   "execution_count": null,
   "id": "df15321a-60ec-4446-a8e0-7f0f962691c6",
   "metadata": {},
   "outputs": [],
   "source": [
    "pd.read_csv(filepath)"
   ]
  },
  {
   "cell_type": "code",
   "execution_count": null,
   "id": "815ad5fb-c30f-48a2-b87f-7f2b3b577f3a",
   "metadata": {},
   "outputs": [],
   "source": [
    "path = Path('/mnt/c/Users/dsege/TEMP/Alexia/')"
   ]
  },
  {
   "cell_type": "code",
   "execution_count": null,
   "id": "eb32b06f-7b8d-4e08-83e6-7714cb0e41c8",
   "metadata": {},
   "outputs": [],
   "source": [
    "for elem in path.iterdir():\n",
    "    print(elem)"
   ]
  },
  {
   "cell_type": "code",
   "execution_count": null,
   "id": "44903f33-b3ca-4e16-ba42-046dd4fccff4",
   "metadata": {},
   "outputs": [],
   "source": [
    "for elem in path.glob(pattern='*'):\n",
    "    print(elem)"
   ]
  },
  {
   "cell_type": "code",
   "execution_count": null,
   "id": "4c702871-62ad-49d1-a570-79d895aef92f",
   "metadata": {},
   "outputs": [],
   "source": [
    "path.parts"
   ]
  },
  {
   "cell_type": "code",
   "execution_count": null,
   "id": "c0b0794d-2163-4638-b713-f8a87477ec9c",
   "metadata": {},
   "outputs": [],
   "source": [
    "database = Database(path)"
   ]
  },
  {
   "cell_type": "code",
   "execution_count": null,
   "id": "3592b935-9bbe-4fa5-a804-3499f4df1a94",
   "metadata": {},
   "outputs": [],
   "source": []
  },
  {
   "cell_type": "code",
   "execution_count": null,
   "id": "eb571cc5-7bba-4b72-9c39-08c44b01f7a3",
   "metadata": {},
   "outputs": [],
   "source": [
    "import os\n",
    "from pathlib import Path\n",
    "from abc import ABC, abstractmethod\n",
    "\n",
    "class Feature(ABC):\n",
    "    \n",
    "    @abstractmethod\n",
    "    def add_to_database(self):\n",
    "        pass\n",
    "    \n",
    "\n",
    "class CellRecording(Feature):\n",
    "    \n",
    "    def add_to_database(self):\n",
    "        pass\n",
    "    \n",
    "    \n",
    "class Subdirectories:\n",
    "    \n",
    "    def __init__(self, root_dir: Path):\n",
    "        self.root_dir = root_dir\n",
    "        self.create_missing_subdirectories()\n",
    "        self.assign_subdirectories_as_attributes()\n",
    "        \n",
    "    def create_missing_subdirectories(self):\n",
    "        # check for each element in a list of subdirs, whether they exist --> create if not\n",
    "        pass\n",
    "    \n",
    "    def assign_subdirectories_as_attributes(self):\n",
    "        # use list of subdirs and set the path to each as attribute\n",
    "        pass   \n",
    "\n",
    "\n",
    "class Database:\n",
    "    \n",
    "    \"\"\"\n",
    "    The database is supposed to hold all information about all recorded cells that were added to it.\n",
    "    These information exclude the raw data (only contain filepaths to raw data),\n",
    "    but include general metadata like celltype, stimulus type, brain region, pharamacological treatment.\n",
    "    Potentially, some intermediate data could be added (like how the cell reacted upon stimulation, see dashboard).\n",
    "    Overall, the database should allow the selection of cells based on mix-and-match criteria \n",
    "    for further (statistical) analyses and plotting.\n",
    "    \"\"\"\n",
    "    \n",
    "    def __init__(self, root_dir: Path):\n",
    "        self.root_dir = root_dir\n",
    "        self.subdirectories = Subdirectories(root_dir = root_dir)\n",
    "\n",
    "    def load_database_from_disk(self):\n",
    "        # Option to load previously created and saved database\n",
    "        pass\n",
    "    \n",
    "    def save_database_to_disk(self):\n",
    "        # Save all information to disk\n",
    "        pass\n",
    "    \n",
    "    def add_new_feature(self, new_feature: Feature):\n",
    "        # By providing the Path to a new directory, the user has the option to add new recordings to the database\n",
    "        # should trigger the database to update itself (e.g. categories dictionary)\n",
    "        pass\n",
    "\n",
    "\n",
    "    \n",
    "\n",
    "        \n"
   ]
  },
  {
   "cell_type": "code",
   "execution_count": null,
   "id": "11254dbd-659f-4f6a-9fef-c27fa8e86b8d",
   "metadata": {},
   "outputs": [],
   "source": []
  }
 ],
 "metadata": {
  "kernelspec": {
   "display_name": "Python 3 (ipykernel)",
   "language": "python",
   "name": "python3"
  },
  "language_info": {
   "codemirror_mode": {
    "name": "ipython",
    "version": 3
   },
   "file_extension": ".py",
   "mimetype": "text/x-python",
   "name": "python",
   "nbconvert_exporter": "python",
   "pygments_lexer": "ipython3",
   "version": "3.7.12"
  }
 },
 "nbformat": 4,
 "nbformat_minor": 5
}
