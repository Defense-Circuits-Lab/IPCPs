{
 "cells": [
  {
   "cell_type": "code",
   "execution_count": 1,
   "id": "56bf9399-f93b-4e2b-be3b-bf1869be32d7",
   "metadata": {},
   "outputs": [],
   "source": [
    "import os\n",
    "import pandas as pd\n",
    "import seaborn as sns\n",
    "import numpy as np\n",
    "\n",
    "import matplotlib.pyplot as plt"
   ]
  },
  {
   "cell_type": "code",
   "execution_count": 1,
   "id": "ba94c246-929a-4ef5-be89-704c55ba1f19",
   "metadata": {},
   "outputs": [],
   "source": [
    "from pandas import DataFrame"
   ]
  },
  {
   "cell_type": "code",
   "execution_count": null,
   "id": "259d9bdf-9b03-40aa-b806-74210de50dd4",
   "metadata": {},
   "outputs": [],
   "source": []
  },
  {
   "cell_type": "code",
   "execution_count": 2,
   "id": "a3739c70-28d0-4981-bfd6-f70b6987ef49",
   "metadata": {},
   "outputs": [],
   "source": [
    "data = {'stim_type': list(), \n",
    "        'amplitude': list(),\n",
    "        'inter_event_interval': list(),\n",
    "        'sweep': list()}"
   ]
  },
  {
   "cell_type": "code",
   "execution_count": 31,
   "id": "24bb2c10-139a-4e08-9bdc-7df48461b577",
   "metadata": {},
   "outputs": [],
   "source": [
    "root_dir = '/mnt/c/Users/dsege/TEMP/Alexia/2021_12_09_C2/2021_12_09_C2/2021_12_09_C2_20Hz500ms.csv' \n",
    "\n",
    "filename = '2021_12_09_C2'"
   ]
  },
  {
   "cell_type": "code",
   "execution_count": 32,
   "id": "5df96573-c811-4644-9c22-a9016d8aef35",
   "metadata": {},
   "outputs": [],
   "source": [
    "df = pd.read_csv(root_dir)"
   ]
  },
  {
   "cell_type": "code",
   "execution_count": 33,
   "id": "7f381a0c-f927-4f15-96cb-5989e3a74a4b",
   "metadata": {},
   "outputs": [
    {
     "data": {
      "text/html": [
       "<div>\n",
       "<style scoped>\n",
       "    .dataframe tbody tr th:only-of-type {\n",
       "        vertical-align: middle;\n",
       "    }\n",
       "\n",
       "    .dataframe tbody tr th {\n",
       "        vertical-align: top;\n",
       "    }\n",
       "\n",
       "    .dataframe thead th {\n",
       "        text-align: right;\n",
       "    }\n",
       "</style>\n",
       "<table border=\"1\" class=\"dataframe\">\n",
       "  <thead>\n",
       "    <tr style=\"text-align: right;\">\n",
       "      <th></th>\n",
       "      <th>EV_WaveN_RS1_A0</th>\n",
       "      <th>EV_ThreshT_RS1_A0</th>\n",
       "      <th>EV_ThreshY_RS1_A0</th>\n",
       "      <th>EV_PeakT_RS1_A0</th>\n",
       "      <th>EV_PeakY_RS1_A0</th>\n",
       "      <th>EV_BaseY_RS1_A0</th>\n",
       "      <th>EV_AmpY_RS1_A0</th>\n",
       "    </tr>\n",
       "  </thead>\n",
       "  <tbody>\n",
       "    <tr>\n",
       "      <th>0</th>\n",
       "      <td>0</td>\n",
       "      <td>3441.7</td>\n",
       "      <td>-4.473760</td>\n",
       "      <td>3442.4</td>\n",
       "      <td>-10.65330</td>\n",
       "      <td>-1.331690</td>\n",
       "      <td>-9.32157</td>\n",
       "    </tr>\n",
       "    <tr>\n",
       "      <th>1</th>\n",
       "      <td>0</td>\n",
       "      <td>3534.8</td>\n",
       "      <td>-5.068700</td>\n",
       "      <td>3535.8</td>\n",
       "      <td>-9.64638</td>\n",
       "      <td>-1.932240</td>\n",
       "      <td>-7.71414</td>\n",
       "    </tr>\n",
       "    <tr>\n",
       "      <th>2</th>\n",
       "      <td>0</td>\n",
       "      <td>3575.0</td>\n",
       "      <td>-4.977810</td>\n",
       "      <td>3575.6</td>\n",
       "      <td>-10.43300</td>\n",
       "      <td>-1.432070</td>\n",
       "      <td>-9.00091</td>\n",
       "    </tr>\n",
       "    <tr>\n",
       "      <th>3</th>\n",
       "      <td>0</td>\n",
       "      <td>3607.5</td>\n",
       "      <td>-4.416650</td>\n",
       "      <td>3608.2</td>\n",
       "      <td>-9.70576</td>\n",
       "      <td>-1.292380</td>\n",
       "      <td>-8.41338</td>\n",
       "    </tr>\n",
       "    <tr>\n",
       "      <th>4</th>\n",
       "      <td>0</td>\n",
       "      <td>3753.6</td>\n",
       "      <td>-5.167740</td>\n",
       "      <td>3754.4</td>\n",
       "      <td>-17.78960</td>\n",
       "      <td>-1.402520</td>\n",
       "      <td>-16.38710</td>\n",
       "    </tr>\n",
       "    <tr>\n",
       "      <th>...</th>\n",
       "      <td>...</td>\n",
       "      <td>...</td>\n",
       "      <td>...</td>\n",
       "      <td>...</td>\n",
       "      <td>...</td>\n",
       "      <td>...</td>\n",
       "      <td>...</td>\n",
       "    </tr>\n",
       "    <tr>\n",
       "      <th>816</th>\n",
       "      <td>9</td>\n",
       "      <td>19229.1</td>\n",
       "      <td>-2.210830</td>\n",
       "      <td>19230.3</td>\n",
       "      <td>-3.21420</td>\n",
       "      <td>0.829616</td>\n",
       "      <td>-4.04381</td>\n",
       "    </tr>\n",
       "    <tr>\n",
       "      <th>817</th>\n",
       "      <td>9</td>\n",
       "      <td>19369.7</td>\n",
       "      <td>-0.066215</td>\n",
       "      <td>19370.2</td>\n",
       "      <td>-2.55783</td>\n",
       "      <td>3.129000</td>\n",
       "      <td>-5.68683</td>\n",
       "    </tr>\n",
       "    <tr>\n",
       "      <th>818</th>\n",
       "      <td>9</td>\n",
       "      <td>19485.4</td>\n",
       "      <td>-1.393950</td>\n",
       "      <td>19487.3</td>\n",
       "      <td>-10.27540</td>\n",
       "      <td>2.042480</td>\n",
       "      <td>-12.31790</td>\n",
       "    </tr>\n",
       "    <tr>\n",
       "      <th>819</th>\n",
       "      <td>9</td>\n",
       "      <td>19616.2</td>\n",
       "      <td>-5.867590</td>\n",
       "      <td>19616.8</td>\n",
       "      <td>-8.44465</td>\n",
       "      <td>-2.214410</td>\n",
       "      <td>-6.23025</td>\n",
       "    </tr>\n",
       "    <tr>\n",
       "      <th>820</th>\n",
       "      <td>9</td>\n",
       "      <td>19975.4</td>\n",
       "      <td>-1.816470</td>\n",
       "      <td>19976.9</td>\n",
       "      <td>-6.13200</td>\n",
       "      <td>1.314010</td>\n",
       "      <td>-7.44600</td>\n",
       "    </tr>\n",
       "  </tbody>\n",
       "</table>\n",
       "<p>821 rows × 7 columns</p>\n",
       "</div>"
      ],
      "text/plain": [
       "     EV_WaveN_RS1_A0  EV_ThreshT_RS1_A0  EV_ThreshY_RS1_A0  EV_PeakT_RS1_A0  \\\n",
       "0                  0             3441.7          -4.473760           3442.4   \n",
       "1                  0             3534.8          -5.068700           3535.8   \n",
       "2                  0             3575.0          -4.977810           3575.6   \n",
       "3                  0             3607.5          -4.416650           3608.2   \n",
       "4                  0             3753.6          -5.167740           3754.4   \n",
       "..               ...                ...                ...              ...   \n",
       "816                9            19229.1          -2.210830          19230.3   \n",
       "817                9            19369.7          -0.066215          19370.2   \n",
       "818                9            19485.4          -1.393950          19487.3   \n",
       "819                9            19616.2          -5.867590          19616.8   \n",
       "820                9            19975.4          -1.816470          19976.9   \n",
       "\n",
       "     EV_PeakY_RS1_A0  EV_BaseY_RS1_A0  EV_AmpY_RS1_A0  \n",
       "0          -10.65330        -1.331690        -9.32157  \n",
       "1           -9.64638        -1.932240        -7.71414  \n",
       "2          -10.43300        -1.432070        -9.00091  \n",
       "3           -9.70576        -1.292380        -8.41338  \n",
       "4          -17.78960        -1.402520       -16.38710  \n",
       "..               ...              ...             ...  \n",
       "816         -3.21420         0.829616        -4.04381  \n",
       "817         -2.55783         3.129000        -5.68683  \n",
       "818        -10.27540         2.042480       -12.31790  \n",
       "819         -8.44465        -2.214410        -6.23025  \n",
       "820         -6.13200         1.314010        -7.44600  \n",
       "\n",
       "[821 rows x 7 columns]"
      ]
     },
     "execution_count": 33,
     "metadata": {},
     "output_type": "execute_result"
    }
   ],
   "source": [
    "df"
   ]
  },
  {
   "cell_type": "code",
   "execution_count": 34,
   "id": "34e18535-5b2b-4660-9754-a81300934539",
   "metadata": {},
   "outputs": [],
   "source": [
    "data['stim_type'] = data['stim_type'] + ['20Hz500ms'] * df.shape[0]"
   ]
  },
  {
   "cell_type": "code",
   "execution_count": 35,
   "id": "0431ac35-3979-4ada-849a-6f969c248fb2",
   "metadata": {},
   "outputs": [],
   "source": [
    "data['sweep'] = data['sweep'] + list(df['EV_WaveN_RS1_A0'].values)"
   ]
  },
  {
   "cell_type": "code",
   "execution_count": 36,
   "id": "f7f7720a-92be-4bc2-98c8-5fb1ef921bce",
   "metadata": {},
   "outputs": [],
   "source": [
    "data['inter_event_interval'] = data['inter_event_interval'] + list(df['EV_PeakT_RS1_A0'].rolling(2).apply(np.diff).rolling(3, center=True).mean().values)"
   ]
  },
  {
   "cell_type": "code",
   "execution_count": 37,
   "id": "24d989fe-f4e1-4279-bd02-ccedb6e94eb4",
   "metadata": {},
   "outputs": [],
   "source": [
    "data['amplitude'] = data['amplitude'] + list(df['EV_AmpY_RS1_A0'].values)"
   ]
  },
  {
   "cell_type": "code",
   "execution_count": null,
   "id": "880b0e0c-075f-4240-a77a-83c643bcf57e",
   "metadata": {},
   "outputs": [],
   "source": []
  },
  {
   "cell_type": "code",
   "execution_count": 38,
   "id": "51eedd14-29cb-45d0-b2a0-505e3bf58e1b",
   "metadata": {},
   "outputs": [
    {
     "data": {
      "text/html": [
       "<div>\n",
       "<style scoped>\n",
       "    .dataframe tbody tr th:only-of-type {\n",
       "        vertical-align: middle;\n",
       "    }\n",
       "\n",
       "    .dataframe tbody tr th {\n",
       "        vertical-align: top;\n",
       "    }\n",
       "\n",
       "    .dataframe thead th {\n",
       "        text-align: right;\n",
       "    }\n",
       "</style>\n",
       "<table border=\"1\" class=\"dataframe\">\n",
       "  <thead>\n",
       "    <tr style=\"text-align: right;\">\n",
       "      <th></th>\n",
       "      <th>stim_type</th>\n",
       "      <th>amplitude</th>\n",
       "      <th>inter_event_interval</th>\n",
       "      <th>sweep</th>\n",
       "    </tr>\n",
       "  </thead>\n",
       "  <tbody>\n",
       "    <tr>\n",
       "      <th>0</th>\n",
       "      <td>Bsl</td>\n",
       "      <td>-10.59030</td>\n",
       "      <td>NaN</td>\n",
       "      <td>0</td>\n",
       "    </tr>\n",
       "    <tr>\n",
       "      <th>1</th>\n",
       "      <td>Bsl</td>\n",
       "      <td>-7.38336</td>\n",
       "      <td>NaN</td>\n",
       "      <td>0</td>\n",
       "    </tr>\n",
       "    <tr>\n",
       "      <th>2</th>\n",
       "      <td>Bsl</td>\n",
       "      <td>-6.41348</td>\n",
       "      <td>79.216667</td>\n",
       "      <td>0</td>\n",
       "    </tr>\n",
       "    <tr>\n",
       "      <th>3</th>\n",
       "      <td>Bsl</td>\n",
       "      <td>-14.53310</td>\n",
       "      <td>87.600000</td>\n",
       "      <td>0</td>\n",
       "    </tr>\n",
       "    <tr>\n",
       "      <th>4</th>\n",
       "      <td>Bsl</td>\n",
       "      <td>-5.27158</td>\n",
       "      <td>74.533333</td>\n",
       "      <td>0</td>\n",
       "    </tr>\n",
       "    <tr>\n",
       "      <th>...</th>\n",
       "      <td>...</td>\n",
       "      <td>...</td>\n",
       "      <td>...</td>\n",
       "      <td>...</td>\n",
       "    </tr>\n",
       "    <tr>\n",
       "      <th>8730</th>\n",
       "      <td>20Hz500ms</td>\n",
       "      <td>-4.04381</td>\n",
       "      <td>344.433333</td>\n",
       "      <td>9</td>\n",
       "    </tr>\n",
       "    <tr>\n",
       "      <th>8731</th>\n",
       "      <td>20Hz500ms</td>\n",
       "      <td>-5.68683</td>\n",
       "      <td>212.166667</td>\n",
       "      <td>9</td>\n",
       "    </tr>\n",
       "    <tr>\n",
       "      <th>8732</th>\n",
       "      <td>20Hz500ms</td>\n",
       "      <td>-12.31790</td>\n",
       "      <td>128.833333</td>\n",
       "      <td>9</td>\n",
       "    </tr>\n",
       "    <tr>\n",
       "      <th>8733</th>\n",
       "      <td>20Hz500ms</td>\n",
       "      <td>-6.23025</td>\n",
       "      <td>202.233333</td>\n",
       "      <td>9</td>\n",
       "    </tr>\n",
       "    <tr>\n",
       "      <th>8734</th>\n",
       "      <td>20Hz500ms</td>\n",
       "      <td>-7.44600</td>\n",
       "      <td>NaN</td>\n",
       "      <td>9</td>\n",
       "    </tr>\n",
       "  </tbody>\n",
       "</table>\n",
       "<p>8735 rows × 4 columns</p>\n",
       "</div>"
      ],
      "text/plain": [
       "      stim_type  amplitude  inter_event_interval  sweep\n",
       "0           Bsl  -10.59030                   NaN      0\n",
       "1           Bsl   -7.38336                   NaN      0\n",
       "2           Bsl   -6.41348             79.216667      0\n",
       "3           Bsl  -14.53310             87.600000      0\n",
       "4           Bsl   -5.27158             74.533333      0\n",
       "...         ...        ...                   ...    ...\n",
       "8730  20Hz500ms   -4.04381            344.433333      9\n",
       "8731  20Hz500ms   -5.68683            212.166667      9\n",
       "8732  20Hz500ms  -12.31790            128.833333      9\n",
       "8733  20Hz500ms   -6.23025            202.233333      9\n",
       "8734  20Hz500ms   -7.44600                   NaN      9\n",
       "\n",
       "[8735 rows x 4 columns]"
      ]
     },
     "execution_count": 38,
     "metadata": {},
     "output_type": "execute_result"
    }
   ],
   "source": [
    "df_combo = pd.DataFrame(data=data)\n",
    "df_combo"
   ]
  },
  {
   "cell_type": "code",
   "execution_count": 39,
   "id": "4eb7aee9-15af-4070-8325-f49bfdb645f2",
   "metadata": {},
   "outputs": [
    {
     "data": {
      "text/plain": [
       "(-30.0, 0.0)"
      ]
     },
     "execution_count": 39,
     "metadata": {},
     "output_type": "execute_result"
    },
    {
     "data": {
      "image/png": "[encoded data removed]",
      "text/plain": [
       "<Figure size 432x288 with 1 Axes>"
      ]
     },
     "metadata": {
      "needs_background": "light"
     },
     "output_type": "display_data"
    }
   ],
   "source": [
    "sns.ecdfplot(data=df_combo, x='amplitude', hue='stim_type')\n",
    "plt.xlim(-30, 0)"
   ]
  },
  {
   "cell_type": "code",
   "execution_count": 46,
   "id": "888821ba-38d9-4143-86fb-a212e2aa50a1",
   "metadata": {},
   "outputs": [
    {
     "data": {
      "text/plain": [
       "-11273.550000000003"
      ]
     },
     "execution_count": 46,
     "metadata": {},
     "output_type": "execute_result"
    }
   ],
   "source": [
    "df_combo['inter_event_interval'].min()"
   ]
  },
  {
   "cell_type": "code",
   "execution_count": 47,
   "id": "84fda2d5-6867-4c1c-9c42-aedcfc4e5d24",
   "metadata": {},
   "outputs": [
    {
     "data": {
      "text/html": [
       "<div>\n",
       "<style scoped>\n",
       "    .dataframe tbody tr th:only-of-type {\n",
       "        vertical-align: middle;\n",
       "    }\n",
       "\n",
       "    .dataframe tbody tr th {\n",
       "        vertical-align: top;\n",
       "    }\n",
       "\n",
       "    .dataframe thead th {\n",
       "        text-align: right;\n",
       "    }\n",
       "</style>\n",
       "<table border=\"1\" class=\"dataframe\">\n",
       "  <thead>\n",
       "    <tr style=\"text-align: right;\">\n",
       "      <th></th>\n",
       "      <th>stim_type</th>\n",
       "      <th>amplitude</th>\n",
       "      <th>inter_event_interval</th>\n",
       "      <th>sweep</th>\n",
       "    </tr>\n",
       "  </thead>\n",
       "  <tbody>\n",
       "    <tr>\n",
       "      <th>313</th>\n",
       "      <td>Bsl</td>\n",
       "      <td>-4.07756</td>\n",
       "      <td>-11219.933333</td>\n",
       "      <td>0</td>\n",
       "    </tr>\n",
       "    <tr>\n",
       "      <th>314</th>\n",
       "      <td>Bsl</td>\n",
       "      <td>-4.72432</td>\n",
       "      <td>-11220.733333</td>\n",
       "      <td>1</td>\n",
       "    </tr>\n",
       "    <tr>\n",
       "      <th>315</th>\n",
       "      <td>Bsl</td>\n",
       "      <td>-3.92875</td>\n",
       "      <td>-11217.100000</td>\n",
       "      <td>1</td>\n",
       "    </tr>\n",
       "    <tr>\n",
       "      <th>623</th>\n",
       "      <td>Bsl</td>\n",
       "      <td>-6.94587</td>\n",
       "      <td>-11273.550000</td>\n",
       "      <td>1</td>\n",
       "    </tr>\n",
       "    <tr>\n",
       "      <th>624</th>\n",
       "      <td>Bsl</td>\n",
       "      <td>-6.12897</td>\n",
       "      <td>-11205.816667</td>\n",
       "      <td>2</td>\n",
       "    </tr>\n",
       "    <tr>\n",
       "      <th>...</th>\n",
       "      <td>...</td>\n",
       "      <td>...</td>\n",
       "      <td>...</td>\n",
       "      <td>...</td>\n",
       "    </tr>\n",
       "    <tr>\n",
       "      <th>8502</th>\n",
       "      <td>20Hz500ms</td>\n",
       "      <td>-6.91217</td>\n",
       "      <td>-5383.066667</td>\n",
       "      <td>8</td>\n",
       "    </tr>\n",
       "    <tr>\n",
       "      <th>8503</th>\n",
       "      <td>20Hz500ms</td>\n",
       "      <td>-8.27262</td>\n",
       "      <td>-5393.600000</td>\n",
       "      <td>8</td>\n",
       "    </tr>\n",
       "    <tr>\n",
       "      <th>8622</th>\n",
       "      <td>20Hz500ms</td>\n",
       "      <td>-6.61964</td>\n",
       "      <td>-5529.666667</td>\n",
       "      <td>8</td>\n",
       "    </tr>\n",
       "    <tr>\n",
       "      <th>8623</th>\n",
       "      <td>20Hz500ms</td>\n",
       "      <td>-4.71173</td>\n",
       "      <td>-5482.700000</td>\n",
       "      <td>9</td>\n",
       "    </tr>\n",
       "    <tr>\n",
       "      <th>8624</th>\n",
       "      <td>20Hz500ms</td>\n",
       "      <td>-4.04641</td>\n",
       "      <td>-5476.066667</td>\n",
       "      <td>9</td>\n",
       "    </tr>\n",
       "  </tbody>\n",
       "</table>\n",
       "<p>120 rows × 4 columns</p>\n",
       "</div>"
      ],
      "text/plain": [
       "      stim_type  amplitude  inter_event_interval  sweep\n",
       "313         Bsl   -4.07756         -11219.933333      0\n",
       "314         Bsl   -4.72432         -11220.733333      1\n",
       "315         Bsl   -3.92875         -11217.100000      1\n",
       "623         Bsl   -6.94587         -11273.550000      1\n",
       "624         Bsl   -6.12897         -11205.816667      2\n",
       "...         ...        ...                   ...    ...\n",
       "8502  20Hz500ms   -6.91217          -5383.066667      8\n",
       "8503  20Hz500ms   -8.27262          -5393.600000      8\n",
       "8622  20Hz500ms   -6.61964          -5529.666667      8\n",
       "8623  20Hz500ms   -4.71173          -5482.700000      9\n",
       "8624  20Hz500ms   -4.04641          -5476.066667      9\n",
       "\n",
       "[120 rows x 4 columns]"
      ]
     },
     "execution_count": 47,
     "metadata": {},
     "output_type": "execute_result"
    }
   ],
   "source": [
    "df_combo[df_combo['inter_event_interval'] < 0]"
   ]
  },
  {
   "cell_type": "code",
   "execution_count": 45,
   "id": "2008c04c-cf4b-4180-aee0-6c144b70ded8",
   "metadata": {},
   "outputs": [
    {
     "data": {
      "text/plain": [
       "(0.0, 500.0)"
      ]
     },
     "execution_count": 45,
     "metadata": {},
     "output_type": "execute_result"
    },
    {
     "data": {
      "image/png": "[encoded data removed]",
      "text/plain": [
       "<Figure size 432x288 with 1 Axes>"
      ]
     },
     "metadata": {
      "needs_background": "light"
     },
     "output_type": "display_data"
    }
   ],
   "source": [
    "sns.ecdfplot(data=df_combo, x='inter_event_interval', hue='stim_type')\n",
    "plt.xlim(0, 500)\n"
   ]
  },
  {
   "cell_type": "code",
   "execution_count": null,
   "id": "aa60b2e1-06a0-4344-b2a8-d45894b98ba0",
   "metadata": {},
   "outputs": [],
   "source": []
  }
 ],
 "metadata": {
  "kernelspec": {
   "display_name": "Python 3 (ipykernel)",
   "language": "python",
   "name": "python3"
  },
  "language_info": {
   "codemirror_mode": {
    "name": "ipython",
    "version": 3
   },
   "file_extension": ".py",
   "mimetype": "text/x-python",
   "name": "python",
   "nbconvert_exporter": "python",
   "pygments_lexer": "ipython3",
   "version": "3.7.12"
  }
 },
 "nbformat": 4,
 "nbformat_minor": 5
}
